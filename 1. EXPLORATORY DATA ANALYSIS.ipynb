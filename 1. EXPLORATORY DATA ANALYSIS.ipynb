{
 "cells": [
  {
   "cell_type": "code",
   "execution_count": 1,
   "id": "ad6b6f0d",
   "metadata": {},
   "outputs": [],
   "source": [
    "import random\n",
    "import re\n",
    "import matplotlib.pyplot as plt"
   ]
  },
  {
   "cell_type": "markdown",
   "id": "fd9cee18",
   "metadata": {
    "id": "mEOZxBb1Txht"
   },
   "source": [
    "# THE TRAINING DATA"
   ]
  },
  {
   "cell_type": "code",
   "execution_count": 2,
   "id": "4bc38665",
   "metadata": {
    "id": "l01e-8X62evz"
   },
   "outputs": [],
   "source": [
    "file=open(\"train.ft.txt\",\"r\",encoding=\"utf8\")\n",
    "train_data=[x for x in file]\n",
    "file.close()"
   ]
  },
  {
   "cell_type": "code",
   "execution_count": 3,
   "id": "a8da6ab9",
   "metadata": {},
   "outputs": [
    {
     "data": {
      "text/plain": [
       "3600000"
      ]
     },
     "execution_count": 3,
     "metadata": {},
     "output_type": "execute_result"
    }
   ],
   "source": [
    "len(train_data)"
   ]
  },
  {
   "cell_type": "code",
   "execution_count": 4,
   "id": "ff9f68f5",
   "metadata": {},
   "outputs": [
    {
     "data": {
      "text/plain": [
       "['__label__1 Review of Mavis Beacon Teaches Typing 12: I have purchased two versions of this program - Mavis Beacon 10 and Mavis Beacon 12 -- and have encountered the same problem with each. That is, both programs froze at the same point --the last beginner quiz before advancing to intermediate. In spite of the work by 2 computer service technicians, including email exchanges with the the parent company,the problem could not be solved. This is a defective product. I am in the process of requesting a refund. I have now purchased Typing Tutor 10 and am hoping for better results.\\n',\n",
       " '__label__2 Deluxe Booster Seat: Great Seat and Great Price and Quick service. I would recommend this seat to anyone and the fact it has two trays and a cover is really a nice also.\\n',\n",
       " \"__label__2 Good quality at a good price: I have been using the 5 meter HDMI cable and it has been working well for a 1080P application. I haven't had any problems with these cables as I have others of different lengths in use. Not all cables are created equal and these definetely are on the higher end as far a quality. I would and have purchased them again.\\n\",\n",
       " \"__label__1 Good intentions, but not for me!: I found this book pretty much useless in my work as a database programmer who recently adopted ASP. Lots of junk information. Presentation is extremely poor. Lots of errors in the code segments I examined. Don't understand why the other folks like it so much. My advice: read it before you buy this not-cheap book.\\n\",\n",
       " '__label__1 Terrible: Awkward, depressing and not funny at all. Pretty much a horribly edited, poorly acted mess. I was really hoping for a redeeming ending and made myself finish it but I got nothing. Story was totally predictable.\\n']"
      ]
     },
     "execution_count": 4,
     "metadata": {},
     "output_type": "execute_result"
    }
   ],
   "source": [
    "random.sample(train_data,5)"
   ]
  },
  {
   "cell_type": "markdown",
   "id": "354a379b",
   "metadata": {
    "id": "JfbB836Xj8ci"
   },
   "source": [
    "# POSITIVE NEGATIVE SPLIT\n",
    "\n",
    "To check balance in data distribution through it's classes."
   ]
  },
  {
   "cell_type": "code",
   "execution_count": 5,
   "id": "f8ffb3ce",
   "metadata": {
    "id": "JJyNsvmUaILx"
   },
   "outputs": [],
   "source": [
    "\n",
    "def split_into_negative_positive(data):       #takes in list of raw data and returns two list of string sentences, one list containing the positive reviews and the other list containing the negative reviews.\n",
    "    negative_reviews=[]      # list of all negative reviews\n",
    "    positive_reviews=[]      # list of all positive reviews\n",
    "\n",
    "    for lines in data:\n",
    "        lines= str(lines)\n",
    "        x=re.findall(\"1|2\", lines)[0]\n",
    "        if x==\"1\":\n",
    "            negative_reviews.append(lines)\n",
    "        elif x==\"2\":\n",
    "            positive_reviews.append(lines)\n",
    "    return(negative_reviews, positive_reviews)\n",
    "        "
   ]
  },
  {
   "cell_type": "code",
   "execution_count": 6,
   "id": "a2182706",
   "metadata": {
    "colab": {
     "base_uri": "https://localhost:8080/",
     "height": 295
    },
    "executionInfo": {
     "elapsed": 118807,
     "status": "ok",
     "timestamp": 1620493386689,
     "user": {
      "displayName": "Nabamita Chakraborty",
      "photoUrl": "https://lh3.googleusercontent.com/a-/AOh14GimpW_Sx4FxcDEUb59yL00PKGQHeTnusTiylnKL-Sw=s64",
      "userId": "02739261684760704673"
     },
     "user_tz": -330
    },
    "id": "sr0qrJ2RduZl",
    "outputId": "e755fe37-bd52-4abf-c863-ea2076b23af4"
   },
   "outputs": [
    {
     "data": {
      "image/png": "[encoded data removed]",
      "text/plain": [
       "<Figure size 432x288 with 1 Axes>"
      ]
     },
     "metadata": {
      "needs_background": "light"
     },
     "output_type": "display_data"
    }
   ],
   "source": [
    "#checking balance of data classification \n",
    "# creating the bar plot\n",
    "%matplotlib inline\n",
    "plt.bar([\"negative\",\"positive\"], [len(output) for output in split_into_negative_positive(train_data)], color ='MAROON',\n",
    "        width = 0.4)\n",
    " \n",
    "plt.xlabel(\"Classes of reviews\")\n",
    "plt.ylabel(\"No. of reviews\")\n",
    "plt.title(\"Class Distribution of Reviews\")\n",
    "plt.show()"
   ]
  },
  {
   "cell_type": "markdown",
   "id": "c09e8cee",
   "metadata": {
    "id": "EknJSpAk0jCc"
   },
   "source": [
    "Hence our data is equally distributed between both the classes."
   ]
  },
  {
   "cell_type": "markdown",
   "id": "2b1c24db",
   "metadata": {},
   "source": [
    "# CONCLUSION:\n",
    "The dataset is in unstructured format with the reviews and the label infused in same line."
   ]
  },
  {
   "cell_type": "markdown",
   "id": "d0a35952",
   "metadata": {},
   "source": [
    "# THE TESTING DATA"
   ]
  },
  {
   "cell_type": "code",
   "execution_count": 7,
   "id": "767126df",
   "metadata": {},
   "outputs": [],
   "source": [
    "file=open(\"test.ft.txt\",\"r\",encoding=\"utf8\")\n",
    "test_data=[x for x in file]\n",
    "file.close()"
   ]
  },
  {
   "cell_type": "code",
   "execution_count": 8,
   "id": "795e5979",
   "metadata": {},
   "outputs": [
    {
     "data": {
      "text/plain": [
       "400000"
      ]
     },
     "execution_count": 8,
     "metadata": {},
     "output_type": "execute_result"
    }
   ],
   "source": [
    "len(test_data)"
   ]
  },
  {
   "cell_type": "code",
   "execution_count": 9,
   "id": "2134ac87",
   "metadata": {},
   "outputs": [
    {
     "data": {
      "text/plain": [
       "[\"__label__1 Works well but doesn't lasts: I was pretty happy with this unit. However, after around one year and two months it wouldn't start anymore. I expected more durability for [the moeny]. I don't think I'll waste my money with IOMEGA again.\\n\",\n",
       " '__label__1 It was not made for an office: We tried to use this in our office put the static was to loud and it did not serve the purpose, we needed it for watching our front door.\\n',\n",
       " \"__label__2 authentic, awesome, wonderful !!!: This is an awesome cookbook!!! My husband doesn't usually Like Mexican food but he has loved everything I've made from this cookbook. The extra time it takes to make these recipes is well worth it.\\n\",\n",
       " \"__label__1 Horrible and moldy: This was the worst jerky I have every had in my life. The first package was okay, but the next couple of packages tasted a little 'off', almost stale. How can jerky taste stale? Well, apparently it can if it gets moldy.Now, I have eaten a lot of jerky in my life. I've made jerky. Properly prepared, jerky should not get moldy. I have never, ever had turkey jerky get moldy in an unopened package. But we found mold on the next package we opened, and by the time we got to the next one, it was covered in mold. These were stored in a dark, cool, dry place. We ended up throwing away the rest.I am glad that neither my family nor I got food poisoning from this stuff. Do not buy!\\n\",\n",
       " \"__label__1 Don't expect to get anywhere with this one...: I ordered this atlas and then sent it back. The maps have no detail whatsoever, and it doesn't show any streets, just major highways. Maybe it would be good for people who would be traveling a lot on the highways in France. But once you get somewhere you'll be out of luck because it doesn't show the streets of towns.\\n\"]"
      ]
     },
     "execution_count": 9,
     "metadata": {},
     "output_type": "execute_result"
    }
   ],
   "source": [
    "random.sample(test_data,5)"
   ]
  },
  {
   "cell_type": "markdown",
   "id": "d3c63e9d",
   "metadata": {},
   "source": [
    "The test data has same structure as the training data."
   ]
  }
 ],
 "metadata": {
  "kernelspec": {
   "display_name": "Python 3",
   "language": "python",
   "name": "python3"
  },
  "language_info": {
   "codemirror_mode": {
    "name": "ipython",
    "version": 3
   },
   "file_extension": ".py",
   "mimetype": "text/x-python",
   "name": "python",
   "nbconvert_exporter": "python",
   "pygments_lexer": "ipython3",
   "version": "3.9.5"
  }
 },
 "nbformat": 4,
 "nbformat_minor": 5
}
