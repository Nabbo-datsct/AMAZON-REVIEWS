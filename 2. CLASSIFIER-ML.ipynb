{
 "cells": [
  {
   "cell_type": "markdown",
   "id": "1e5aee2e",
   "metadata": {
    "id": "mEOZxBb1Txht"
   },
   "source": [
    "# THE TRAINING DATA "
   ]
  },
  {
   "cell_type": "code",
   "execution_count": 1,
   "id": "48fa5295",
   "metadata": {},
   "outputs": [],
   "source": [
    "import random"
   ]
  },
  {
   "cell_type": "code",
   "execution_count": 2,
   "id": "bfd5fa95",
   "metadata": {},
   "outputs": [],
   "source": [
    "file=open(\"train.ft.txt\",\"r\",encoding=\"utf8\")\n",
    "train_file_lines=[x for x in file]\n",
    "file.close()"
   ]
  },
  {
   "cell_type": "code",
   "execution_count": 3,
   "id": "6b9f4589",
   "metadata": {},
   "outputs": [
    {
     "data": {
      "text/plain": [
       "[\"__label__1 Big disappointment...: I ordered this, because like everyone else, I loved this show as a kid, and wanted to share it with my son. When I got the set, it was in 1 box, with 4 places for discs, and each disc had the proper picture on it, as far as I could tell. I had read other people's reviews, and read that they had issues with their discs, so I checked mine. I was disappointed to see that only 1 of my discs worked. I read a reply from the company that the way that they burned the discs might not work for everyone's machine- This should be in the product discription, first of all. Second, why burn a set this way, if they won't work for everyone, and why did one disc work, and the other 3 didn't? Doesn't make a bit of sense to me. I tried them in several different systems, and they didn't work in any of them...just something to be aware of, for others who want to try give it a try!I had no issues returning the disc for a refund, which was great.\\n\",\n",
       " \"__label__1 Too Squishy: This pad is way way too soft for me. I get up with upper back pain, and I can feel the lower back pain coming. (Actually, it's quite comfortable for my hips.) All the how to pick a mattress topper tell you about firmness ratings--and none of the mattress toppers list firmness ratings! I'm returning this.On the positive side, it didn't smell bad at all, even right after opened.I bought a different cheap one from Amazon four years ago that has done me great. Maybe I'll try to track it down and see if they still have that one.\\n\",\n",
       " '__label__1 poorly drafted, bad advice: My biggest gripe with this book is that the author suggests using antique garments for doll clothes. If you have an actual antique doll, and a pattern appropriate to the age of the doll, then go ahead and use a badly damaged antique garment for fabric. But please, never use old garments in good condition for doll clothes. Donate them to your local historical society or sell them. Respect the handicraft of previous generations. A doll that has survived for over 50 years deserves something better than a two-hour garment, anyway!If you just want fabric that looks old, try tea-dyeing.The patterns are ok for baby and child figure types, but there are none for teen or adult figure types. All pretty much just skirt and bodice.\\n',\n",
       " '__label__1 A personal memoir, though cliche and boring: While Steven Sorrentino writes a personal memoir of the relationship between his luncheonette and his father (the metaphor repeatedly slaps the reader in the face), the reader is busy waiting for something to \"happen.\" The Sorrentino memoir seems more of a posthumous personal documentation of a father-son relationship than a novel for the mass market. Nothing truly happens, and the cliche and stereotypical characters become tedious to read. Can we watch the Soprano\\'s for this form of regionalism? Would have been more effective if the author was not trying to expand the metaphor of the luncheonette to mirror the relationship between father and son. It seems a tiresome stretch; nevertheless, if Sorrentino feels compelled and pleased with a journal-like memory of his father, good for him.\\n',\n",
       " \"__label__1 No back up service: I purchased my Koday digital camera and it was fine - until it stopped working while I was at a quilt show. The lens stuck in the on position and nothing I tried would retract the lens. After a few minutes it turned off and now it can't be turned back on. I had pictures in the memory and there was no way to retrieve them.I called customer service and all they were interested in was selling me another camera at around half the original price. They also wanted me to pay shipping to and from their office at around [...] each way.Buy the camera if you feel adventurous but beware that you probably will not be able to get service when you need it most.Also forget about buying the docking port - it is very expensive to print from it... both the paper and the ink cartridges. It's way cheaper to use your color printer and buy photo paper.\\n\",\n",
       " \"__label__1 Very slow pacing: It's obvious from the reviews that this show appeals to a lot of folks but I found it to be unbearably slow. Too many long, redundant shots, too little dialogue and action. Acting is fine.\\n\",\n",
       " '__label__2 Burns nice and slow.: Beeswax candles have a pleasant scent, a strong flame, and the longest, cleanest burn of any candle. Carry one in my pack for emergency use.\\n',\n",
       " \"__label__2 Fantastic Headphones for Little Money (I'm no audiophile): For under twenty dollars, these headphones provide a rich, very organic sound. Much better than stock iPod earbuds and certainly better than some of the other lower priced options available.I haven't tried some of the more expensive earbuds on the market; however, after hearing these I feel no need.The little volume slider on the wire is an excellent alternative to raise or lower the volume without digging the media player out of your pocket each time.All in all, very happy with my purchase. Highly recommend.\\n\",\n",
       " '__label__1 Too Basic for the Common Coach: Though fundamentally strong, this book is extremely simplistic. Anyone who considers themselves a somewhat experienced coach should bypass this title and begin looking elsewhere for a decent drill guide/idea book.\\n',\n",
       " '__label__1 B-O-R-I-N-G: The best thing about this CD is that you can use your \"back\" button to get a truly hidden track just before track one. But that song, like the rest of the album lulls and relies on a cheesy machine to back up what essential aren\\'t very good songs. Maybe he\\'s done better, maybe he\\'s done worse. I\\'d never heard of him before and I\\'d rather I didn\\'t have the CD.\\n']"
      ]
     },
     "execution_count": 3,
     "metadata": {},
     "output_type": "execute_result"
    }
   ],
   "source": [
    "random.sample(train_file_lines,10)"
   ]
  },
  {
   "cell_type": "markdown",
   "id": "3d71a342",
   "metadata": {
    "id": "6BBmIIOsUTKj"
   },
   "source": [
    "# PRE-PROCESSING"
   ]
  },
  {
   "cell_type": "markdown",
   "id": "98855599",
   "metadata": {},
   "source": [
    "IMPORTING LIBRARIES AND DOWNLOADING TOOLKITS"
   ]
  },
  {
   "cell_type": "code",
   "execution_count": 4,
   "id": "fbd29392",
   "metadata": {},
   "outputs": [
    {
     "name": "stderr",
     "output_type": "stream",
     "text": [
      "[nltk_data] Downloading package wordnet to\n",
      "[nltk_data]     C:\\Users\\hp\\AppData\\Roaming\\nltk_data...\n",
      "[nltk_data]   Package wordnet is already up-to-date!\n",
      "[nltk_data] Downloading package stopwords to\n",
      "[nltk_data]     C:\\Users\\hp\\AppData\\Roaming\\nltk_data...\n",
      "[nltk_data]   Package stopwords is already up-to-date!\n",
      "[nltk_data] Downloading package words to\n",
      "[nltk_data]     C:\\Users\\hp\\AppData\\Roaming\\nltk_data...\n",
      "[nltk_data]   Package words is already up-to-date!\n"
     ]
    },
    {
     "name": "stdout",
     "output_type": "stream",
     "text": [
      "✔ Download and installation successful\n",
      "You can now load the package via spacy.load('en_core_web_sm')\n"
     ]
    }
   ],
   "source": [
    "import lxml\n",
    "import spacy\n",
    "import nltk\n",
    "import re\n",
    "from bs4 import BeautifulSoup          #To remove html tags while preprocessing reviews.\n",
    "\n",
    "nltk.download(\"wordnet\")\n",
    "nltk.download(\"stopwords\")\n",
    "nltk.download('words')\n",
    "\n",
    "from nltk.stem import WordNetLemmatizer\n",
    "lemmatizer = WordNetLemmatizer()\n",
    "from nltk.corpus import stopwords\n",
    "stop_words = set(stopwords.words('english'))\n",
    "english_words = set(nltk.corpus.words.words())\n",
    "\n",
    "from spacy.cli.download import download\n",
    "download(model=\"en_core_web_sm\")"
   ]
  },
  {
   "cell_type": "markdown",
   "id": "a4669c23",
   "metadata": {
    "id": "GUyLIBKOi3tE"
   },
   "source": [
    "FUNCTIONS FOR SCREENING STOPWORDS, NON-ENGLISH WORDS AND LEMMATIZING AND FILTERING WORDS WITH LENGTH LESS THAN 3."
   ]
  },
  {
   "cell_type": "code",
   "execution_count": 5,
   "id": "dbbd089a",
   "metadata": {
    "id": "djScXh-ECVIw"
   },
   "outputs": [],
   "source": [
    "def remove_underscores(sentence):                    #removing unnecessary character occurences\n",
    "    sentence= sentence.replace(\"_\",\" \")\n",
    "    sentence = sentence.replace(\"\\\\\",\"\")\n",
    "    return sentence\n",
    "\n",
    "\n",
    "def remove_extra_words(sentence):                     #removing stop words and meaningless words and occurences\n",
    "    new_sentence=\"\"\n",
    "    for w in sentence.split():\n",
    "        w=w.lower()\n",
    "        if w in english_words and w not in stop_words and w.isalpha():\n",
    "            new_sentence=new_sentence+\" \"+w\n",
    "    return new_sentence\n",
    "\n",
    "def lemmatize_and_filter(sentence, min_word_length): #lemmatizing words and lose the ones with length less than equal to min_word_length.\n",
    "    sent = \"\"\n",
    "    for word in sentence.split():\n",
    "        word=word.lower()\n",
    "        if len(lemmatizer.lemmatize(word)) > min_word_length:\n",
    "            sent= sent+\" \"+lemmatizer.lemmatize(word)\n",
    "    return(sent)"
   ]
  },
  {
   "cell_type": "markdown",
   "id": "ffad1979",
   "metadata": {
    "id": "lkLB70qS7rRF"
   },
   "source": [
    "FUNCTION FOR POSTAG SCREENING"
   ]
  },
  {
   "cell_type": "code",
   "execution_count": 6,
   "id": "7104ee19",
   "metadata": {
    "id": "RFpOOOTP7jp8"
   },
   "outputs": [],
   "source": [
    "\n",
    "# Initialize spacy 'en' model, keeping only tagger component (for efficiency)\n",
    "# Run in terminal: python3 -m spacy download en\n",
    "nlp = spacy.load('en_core_web_sm', disable=['parser', 'ner'])\n",
    "\n",
    "def postags_screening(texts):\n",
    "    allowed_postags=['ADJ', 'ADV']\n",
    "    texts_out = []\n",
    "    for sent in texts:\n",
    "        doc=nlp(sent)\n",
    "        sent=\"\"\n",
    "        for token in doc:\n",
    "            if token.lemma_ not in ['-PRON-'] and token.pos_ in allowed_postags:        #lemmatization: keeping only adjectives and adverbs\n",
    "                sent=sent+\" \"+str(token.lemma_)\n",
    "        texts_out.append(sent)\n",
    "    return texts_out\n"
   ]
  },
  {
   "cell_type": "markdown",
   "id": "a21193c7",
   "metadata": {
    "id": "5zBqQ3skaILv"
   },
   "source": [
    "Now we define two functions:\n",
    "1. split_label_review\n",
    "2. preprocessed_data\n",
    "\n",
    "1.split_label_review: This will help convert the unstructured data to a structured dataset by spliting the label/class from the reviews.\n",
    "2.preprocessed_data:  This will preprocess the reviews with all the functions defined above."
   ]
  },
  {
   "cell_type": "code",
   "execution_count": 7,
   "id": "f054764c",
   "metadata": {
    "id": "PCagzOeyaILv"
   },
   "outputs": [],
   "source": [
    "#re.sub(r'[^\\w\\s],\"\",string) to remove punctuations.\n",
    "#re.sub(r'^https?:\\/\\/.*[\\r\\n]*', '', string) to remove urls.\n",
    "#re.split(\"__label__[1|2]\",string)[1] to get the 2nd element of the split, i.e, the review\n",
    "#strip() to remove whitespaces\n",
    "#re.findall(\"1|2\", str(lines))[0] to store the first number encountered in the line of the review as the label of the review.\n",
    "#BeautifulSoup(string, \"lxml\").text) to remove html tags\n",
    "\n",
    "\n",
    "def split_label_review(data):\n",
    "    #takes in list of raw data and returns list of string sentences and the list of their corresponding labels.\n",
    "    labels = [int(re.findall(\"1|2\", str(lines))[0]) for lines in data]\n",
    "    reviews = [re.split(\"__label__[1|2]\",str(lines))[1].strip().lower() for lines in data]\n",
    "    return(reviews,labels)\n",
    "\n",
    "\n",
    "def preprocessed_data(data):        #takes in list of raw data and returns list of processed string sentences and the list of their corresponding labels.\n",
    "    reviews = [remove_extra_words(lemmatize_and_filter(BeautifulSoup(re.sub(r'[^\\w\\s]|^https?:\\/\\/.*[\\r\\n]*|\\d+', '', remove_underscores(str(lines)).strip().lower()), \"lxml\").text,3)) for lines in data]\n",
    "    reviews = postags_screening(reviews)\n",
    "    return(reviews)\n",
    "\n"
   ]
  },
  {
   "cell_type": "markdown",
   "id": "1acb7a9c",
   "metadata": {},
   "source": [
    "-------------------------------------------------------------------------------------------------------------------------------"
   ]
  },
  {
   "cell_type": "markdown",
   "id": "0c7d3832",
   "metadata": {},
   "source": [
    "# DATA TRANSFORMATION\n",
    "\n",
    "This will convert the preprocessed reviews to **term frequency-inverse document frequency** matrix. "
   ]
  },
  {
   "cell_type": "code",
   "execution_count": 8,
   "id": "80732fd1",
   "metadata": {},
   "outputs": [],
   "source": [
    "from sklearn.feature_extraction.text import TfidfVectorizer\n",
    "def to_arrays(data):\n",
    "    vectorizer = TfidfVectorizer(smooth_idf=True)\n",
    "    tf_idf = vectorizer.fit_transform(data)\n",
    "    tf_idf = tf_idf.toarray()\n",
    "    return tf_idf"
   ]
  },
  {
   "cell_type": "markdown",
   "id": "5d6a778a",
   "metadata": {},
   "source": [
    "# DATA REDUCTION"
   ]
  },
  {
   "cell_type": "code",
   "execution_count": 9,
   "id": "6010d4bc",
   "metadata": {},
   "outputs": [],
   "source": [
    "#PCA\n",
    "from sklearn.decomposition import PCA\n",
    "def data_reduction(array,n_components):\n",
    "    pca = PCA(n_components=n_components)\n",
    "    array = pca.fit_transform(array)\n",
    "    return array"
   ]
  },
  {
   "cell_type": "markdown",
   "id": "b56116f4",
   "metadata": {},
   "source": [
    "#  Train-Test-Split"
   ]
  },
  {
   "cell_type": "code",
   "execution_count": 10,
   "id": "29dbe1a9",
   "metadata": {},
   "outputs": [],
   "source": [
    "from sklearn.model_selection import train_test_split"
   ]
  },
  {
   "cell_type": "code",
   "execution_count": 11,
   "id": "2af12966",
   "metadata": {},
   
   "source": [
    "train_data = random.sample(train_file_lines,10000)\n",
    "train_data,labels = split_label_review(train_data)\n",
    "train_data = preprocessed_data(train_data)\n"
   ]
  },
  {
   "cell_type": "markdown",
   "id": "2bdd3e80",
   "metadata": {},
   "source": [
    "**WITHOUT DATA REDUCTION**: X_train, X_test, y_train, y_test"
   ]
  },
  {
   "cell_type": "code",
   "execution_count": 12,
   "id": "5478674e",
   "metadata": {},
   "outputs": [
    {
     "data": {
      "text/plain": [
       "(10000, 5013)"
      ]
     },
     "execution_count": 12,
     "metadata": {},
     "output_type": "execute_result"
    }
   ],
   "source": [
    "X = to_arrays(train_data)\n",
    "X.shape"
   ]
  },
  {
   "cell_type": "code",
   "execution_count": 13,
   "id": "6f09d73b",
   "metadata": {},
   "outputs": [],
   "source": [
    "X_train, X_test, y_train, y_test = train_test_split(\n",
    "        X, labels, test_size=0.33, random_state=42)"
   ]
  },
  {
   "cell_type": "markdown",
   "id": "25e3206a",
   "metadata": {},
   "source": [
    "**WITH DATA REDUCTION**: X_train_red, X_test_red, y_train_red, y_test_red"
   ]
  },
  {
   "cell_type": "code",
   "execution_count": 14,
   "id": "489fdba5",
   "metadata": {},
   "outputs": [
    {
     "data": {
      "text/plain": [
       "(10000, 500)"
      ]
     },
     "execution_count": 14,
     "metadata": {},
     "output_type": "execute_result"
    }
   ],
   "source": [
    "X_red = data_reduction(X,500)\n",
    "X_red.shape"
   ]
  },
  {
   "cell_type": "code",
   "execution_count": 15,
   "id": "106d795c",
   "metadata": {},
   "outputs": [],
   "source": [
    "X_train_red, X_test_red, y_train_red, y_test_red = train_test_split(\n",
    "        X_red, labels, test_size=0.33, random_state=42)"
   ]
  },
  {
   "cell_type": "markdown",
   "id": "9441e0f5",
   "metadata": {},
   "source": [
    "# MODELING"
   ]
  },
  {
   "cell_type": "markdown",
   "id": "7834f49f",
   "metadata": {},
   "source": [
    "Now we are going to train three classifiers on our data:\n",
    "1. Random Forest Classifier\n",
    "2. Logistic Regression\n",
    "3. Support Vector Machine"
   ]
  },
  {
   "cell_type": "code",
   "execution_count": 16,
   "id": "629c5f73",
   "metadata": {},
   "outputs": [],
   "source": [
    "import numpy as np\n",
    "from sklearn import metrics  \n",
    "import matplotlib.pyplot as plt\n",
    "%matplotlib inline"
   ]
  },
  {
   "cell_type": "markdown",
   "id": "f9e22037",
   "metadata": {},
   "source": [
    "### **1. RANDOM FOREST CLASSIFIER**"
   ]
  },
  {
   "cell_type": "code",
   "execution_count": 17,
   "id": "c09ee679",
   "metadata": {},
   "outputs": [],
   "source": [
    "from sklearn.ensemble import RandomForestClassifier\n",
    "\n",
    "def model_(X_train, X_test, y_train, y_test,n_estimators):\n",
    "    \n",
    "    Y=[]\n",
    "    \n",
    "    for n in n_estimators:\n",
    "        # creating a RF classifier\n",
    "        clf = RandomForestClassifier(n_estimators = n,criterion=\"entropy\", random_state=45)  \n",
    "\n",
    "        # Training the model on the training dataset\n",
    "        # fit function is used to train the model using the training sets as parameters\n",
    "        clf.fit(X_train,y_train)\n",
    "        y_pred = clf.predict(X_test)\n",
    "        Y.append(metrics.accuracy_score(y_test, y_pred))\n",
    "\n",
    "    plt.plot()\n",
    "    plt.plot(n_estimators,Y)\n",
    "    plt.title(\"RANDOM FOREST CLASSIFIER\",fontweight=\"bold\")\n",
    "    plt.xlabel(\"Number of trees\")\n",
    "    plt.ylabel(\"Accuracy\")\n",
    "    plt.show()\n"
   ]
  },
  {
   "cell_type": "markdown",
   "id": "1da7ee4c",
   "metadata": {},
   "source": [
    "**IMPLEMENTATION**"
   ]
  },
  {
   "cell_type": "code",
   "execution_count": 18,
   "id": "893904ab",
   "metadata": {},
   "outputs": [
    {
     "data": {
      "text/plain": [
       "array([100, 200, 300, 400, 500, 600, 700, 800, 900])"
      ]
     },
     "execution_count": 18,
     "metadata": {},
     "output_type": "execute_result"
    }
   ],
   "source": [
    "n_estimators=np.arange(100,1000,100)\n",
    "n_estimators"
   ]
  },
  {
   "cell_type": "code",
   "execution_count": 19,
   "id": "683a7fa9",
   "metadata": {},
   "outputs": [
    {
     "data": {
      "image/png": "[encoded data removed]",
      "text/plain": [
       "<Figure size 432x288 with 1 Axes>"
      ]
     },
     "metadata": {
      "needs_background": "light"
     },
     "output_type": "display_data"
    }
   ],
   "source": [
    "#without PCA\n",
    "model_(X_train, X_test, y_train, y_test,n_estimators=n_estimators)"
   ]
  },
  {
   "cell_type": "markdown",
   "id": "b4e5d6d7",
   "metadata": {},
   "source": [
    "**CONCLUSION**: The model trains with the highest accuracy when the number of decision trees are approximately 110."
   ]
  },
  {
   "cell_type": "code",
   "execution_count": 20,
   "id": "2151f1fb",
   "metadata": {},
   "outputs": [
    {
     "data": {
      "image/png": "[encoded data removed]",
      "text/plain": [
       "<Figure size 432x288 with 1 Axes>"
      ]
     },
     "metadata": {
      "needs_background": "light"
     },
     "output_type": "display_data"
    }
   ],
   "source": [
    "#with PCA\n",
    "model_(X_train_red, X_test_red, y_train_red, y_test_red,n_estimators=n_estimators)"
   ]
  },
  {
   "cell_type": "markdown",
   "id": "f495bfd5",
   "metadata": {},
   "source": [
    "**CONCLUSION**: The number of estimators versus accuracy graph smoothens as we start considering the feautures(here words) according to their significance but takes a large number of estimators to reach the highest accuracy of the previous model."
   ]
  },
  {
   "cell_type": "markdown",
   "id": "8b29e996",
   "metadata": {},
   "source": [
    "### **2. LOGISTIC REGRESSION**"
   ]
  },
  {
   "cell_type": "code",
   "execution_count": 64,
   "id": "e65a592b",
   "metadata": {},
   "outputs": [],
   "source": [
    "from sklearn.linear_model import LogisticRegression\n",
    "from sklearn.metrics import plot_confusion_matrix\n",
    "\n",
    "def model2_(X_train,X_test,y_train,y_test,title):\n",
    "    lr = LogisticRegression(random_state=30)\n",
    "    lr.fit(X_train,y_train)\n",
    "    y_pred = lr.predict(X_test)\n",
    "    print(\"MODEL ACCURACY = \",metrics.accuracy_score(y_test, y_pred))\n",
    "\n",
    "\n",
    "    np.set_printoptions(precision=2)\n",
    "    \n",
    "    cmp = ['Accent', 'Accent_r', 'Blues', 'Blues_r', 'BrBG', 'BrBG_r', 'BuGn', 'BuGn_r', 'BuPu', 'BuPu_r', 'CMRmap', \n",
    "           'CMRmap_r', 'Dark2', 'Dark2_r', 'GnBu', 'GnBu_r', 'Greens', 'Greens_r', 'Greys', 'Greys_r', 'OrRd', 'OrRd_r',\n",
    "           'Oranges', 'Oranges_r', 'PRGn', 'PRGn_r', 'Paired', 'Paired_r', 'Pastel1', 'Pastel1_r', 'Pastel2', 'Pastel2_r',\n",
    "           'PiYG', 'PiYG_r', 'PuBu', 'PuBuGn', 'PuBuGn_r', 'PuBu_r', 'PuOr', 'PuOr_r', 'PuRd', 'PuRd_r', 'Purples', \n",
    "           'Purples_r', 'RdBu', 'RdBu_r', 'RdGy', 'RdGy_r', 'RdPu', 'RdPu_r', 'RdYlBu', 'RdYlBu_r', 'RdYlGn', 'RdYlGn_r',\n",
    "           'Reds', 'Reds_r', 'Set1', 'Set1_r', 'Set2', 'Set2_r', 'Set3', 'Set3_r', 'Spectral', 'Spectral_r',\n",
    "           'Wistia', 'Wistia_r', 'YlGn', 'YlGnBu', 'YlGnBu_r', 'YlGn_r', 'YlOrBr', 'YlOrBr_r', 'YlOrRd', 'YlOrRd_r',\n",
    "           'afmhot', 'afmhot_r', 'autumn', 'autumn_r', 'binary', 'binary_r', 'bone', 'bone_r', 'brg', 'brg_r', 'bwr', 'bwr_r',\n",
    "           'cividis', 'cividis_r', 'cool', 'cool_r', 'coolwarm', 'coolwarm_r', 'copper', 'copper_r', 'cubehelix', 'cubehelix_r',\n",
    "           'flag', 'flag_r', 'gist_earth', 'gist_earth_r', 'gist_gray', 'gist_gray_r', 'gist_heat', 'gist_heat_r', 'gist_ncar', \n",
    "           'gist_ncar_r', 'gist_rainbow', 'gist_rainbow_r', 'gist_stern', 'gist_stern_r', 'gist_yarg', 'gist_yarg_r', 'gnuplot', \n",
    "           'gnuplot2', 'gnuplot2_r', 'gnuplot_r', 'gray', 'gray_r', 'hot', 'hot_r', 'hsv', 'hsv_r', 'inferno', 'inferno_r', 'jet',\n",
    "           'jet_r', 'magma', 'magma_r', 'nipy_spectral', 'nipy_spectral_r', 'ocean', 'ocean_r', 'pink', 'pink_r', 'plasma',\n",
    "           'plasma_r', 'prism', 'prism_r', 'rainbow', 'rainbow_r', 'seismic', 'seismic_r', 'spring', 'spring_r', 'summer','summer_r', \n",
    "           'tab10', 'tab10_r', 'tab20', 'tab20_r', 'tab20b', 'tab20b_r', 'tab20c', 'tab20c_r', 'terrain', 'terrain_r',\n",
    "           'turbo', 'turbo_r', 'twilight', 'twilight_r', 'twilight_shifted', 'twilight_shifted_r', 'viridis', 'viridis_r', 'winter', 'winter_r']\n",
    "    \n",
    "    disp = plot_confusion_matrix(lr, X_test, y_test,\n",
    "                                 display_labels=set(y_train+y_test),\n",
    "                                 cmap=random.sample(cmp,1)[0])\n",
    "                                 \n",
    "    disp.ax_.set_title(title)\n",
    "    \"\"\"\n",
    "    print(title)\n",
    "    print(disp.confusion_matrix)\n",
    "    \"\"\"\n",
    "    plt.show()\n"
   ]
  },
  {
   "cell_type": "markdown",
   "id": "d46d9236",
   "metadata": {},
   "source": [
    "**IMPLEMENTATION**"
   ]
  },
  {
   "cell_type": "markdown",
   "id": "82176a60",
   "metadata": {},
   "source": [
    "**WITHOUT DATA REDUCTION**"
   ]
  },
  {
   "cell_type": "code",
   "execution_count": 67,
   "id": "2ca54203",
   "metadata": {},
   "outputs": [
    {
     "name": "stdout",
     "output_type": "stream",
     "text": [
      "MODEL ACCURACY =  0.7830303030303031\n"
     ]
    },
    {
     "data": {
      "image/png": "[encoded data removed]",
      "text/plain": [
       "<Figure size 432x288 with 2 Axes>"
      ]
     },
     "metadata": {
      "needs_background": "light"
     },
     "output_type": "display_data"
    }
   ],
   "source": [
    "model2_(X_train,X_test,y_train,y_test,\"LOGIT REGRESSION | WITHOUT PCA\")"
   ]
  },
  {
   "cell_type": "markdown",
   "id": "6178b585",
   "metadata": {},
   "source": [
    "**WITH DATA REDUCTION**"
   ]
  },
  {
   "cell_type": "code",
   "execution_count": 68,
   "id": "3d6b6e39",
   "metadata": {},
   "outputs": [
    {
     "name": "stdout",
     "output_type": "stream",
     "text": [
      "MODEL ACCURACY =  0.7806060606060606\n"
     ]
    },
    {
     "data": {
      "image/png": "[encoded data removed]",
      "text/plain": [
       "<Figure size 432x288 with 2 Axes>"
      ]
     },
     "metadata": {
      "needs_background": "light"
     },
     "output_type": "display_data"
    }
   ],
   "source": [
    "model2_(X_train_red, X_test_red, y_train_red, y_test_red,\"LOGIT REGRESSION | WITH PCA\")"
   ]
  },
  {
   "cell_type": "markdown",
   "id": "7e730b27",
   "metadata": {},
   "source": [
    "### **3. SVM**"
   ]
  },
  {
   "cell_type": "code",
   "execution_count": 69,
   "id": "d11bbf6f",
   "metadata": {},
   "outputs": [],
   "source": [
    "from sklearn import svm\n",
    "def model3(X_train,X_test,y_train,y_test,title):\n",
    "    clf = svm.SVC()\n",
    "    clf.fit(X_train,y_train)\n",
    "    y_pred = clf.predict(X_test)\n",
    "    print(\"MODEL ACCURACY = \",metrics.accuracy_score(y_test, y_pred))\n",
    "\n",
    "\n",
    "    np.set_printoptions(precision=2)\n",
    "    \n",
    "    cmp = ['Accent', 'Accent_r', 'Blues', 'Blues_r', 'BrBG', 'BrBG_r', 'BuGn', 'BuGn_r', 'BuPu', 'BuPu_r', 'CMRmap', \n",
    "           'CMRmap_r', 'Dark2', 'Dark2_r', 'GnBu', 'GnBu_r', 'Greens', 'Greens_r', 'Greys', 'Greys_r', 'OrRd', 'OrRd_r',\n",
    "           'Oranges', 'Oranges_r', 'PRGn', 'PRGn_r', 'Paired', 'Paired_r', 'Pastel1', 'Pastel1_r', 'Pastel2', 'Pastel2_r',\n",
    "           'PiYG', 'PiYG_r', 'PuBu', 'PuBuGn', 'PuBuGn_r', 'PuBu_r', 'PuOr', 'PuOr_r', 'PuRd', 'PuRd_r', 'Purples', \n",
    "           'Purples_r', 'RdBu', 'RdBu_r', 'RdGy', 'RdGy_r', 'RdPu', 'RdPu_r', 'RdYlBu', 'RdYlBu_r', 'RdYlGn', 'RdYlGn_r',\n",
    "           'Reds', 'Reds_r', 'Set1', 'Set1_r', 'Set2', 'Set2_r', 'Set3', 'Set3_r', 'Spectral', 'Spectral_r',\n",
    "           'Wistia', 'Wistia_r', 'YlGn', 'YlGnBu', 'YlGnBu_r', 'YlGn_r', 'YlOrBr', 'YlOrBr_r', 'YlOrRd', 'YlOrRd_r',\n",
    "           'afmhot', 'afmhot_r', 'autumn', 'autumn_r', 'binary', 'binary_r', 'bone', 'bone_r', 'brg', 'brg_r', 'bwr', 'bwr_r',\n",
    "           'cividis', 'cividis_r', 'cool', 'cool_r', 'coolwarm', 'coolwarm_r', 'copper', 'copper_r', 'cubehelix', 'cubehelix_r',\n",
    "           'flag', 'flag_r', 'gist_earth', 'gist_earth_r', 'gist_gray', 'gist_gray_r', 'gist_heat', 'gist_heat_r', 'gist_ncar', \n",
    "           'gist_ncar_r', 'gist_rainbow', 'gist_rainbow_r', 'gist_stern', 'gist_stern_r', 'gist_yarg', 'gist_yarg_r', 'gnuplot', \n",
    "           'gnuplot2', 'gnuplot2_r', 'gnuplot_r', 'gray', 'gray_r', 'hot', 'hot_r', 'hsv', 'hsv_r', 'inferno', 'inferno_r', 'jet',\n",
    "           'jet_r', 'magma', 'magma_r', 'nipy_spectral', 'nipy_spectral_r', 'ocean', 'ocean_r', 'pink', 'pink_r', 'plasma',\n",
    "           'plasma_r', 'prism', 'prism_r', 'rainbow', 'rainbow_r', 'seismic', 'seismic_r', 'spring', 'spring_r', 'summer','summer_r', \n",
    "           'tab10', 'tab10_r', 'tab20', 'tab20_r', 'tab20b', 'tab20b_r', 'tab20c', 'tab20c_r', 'terrain', 'terrain_r',\n",
    "           'turbo', 'turbo_r', 'twilight', 'twilight_r', 'twilight_shifted', 'twilight_shifted_r', 'viridis', 'viridis_r', 'winter', 'winter_r']\n",
    "    \n",
    "    disp = plot_confusion_matrix(clf, X_test, y_test,\n",
    "                                 display_labels=set(y_train+y_test),\n",
    "                                 cmap=random.sample(cmp,1)[0])\n",
    "                                 \n",
    "    disp.ax_.set_title(title)\n",
    "    \"\"\"\n",
    "    print(title)\n",
    "    print(disp.confusion_matrix)\n",
    "    \"\"\"\n",
    "    plt.show()"
   ]
  },
  {
   "cell_type": "markdown",
   "id": "2a5009ef",
   "metadata": {},
   "source": [
    "**IMPLEMENTATION**"
   ]
  },
  {
   "cell_type": "markdown",
   "id": "4b72492c",
   "metadata": {},
   "source": [
    "**WITHOUT DATA REDUCTION**"
   ]
  },
  {
   "cell_type": "code",
   "execution_count": 70,
   "id": "d4f175d6",
   "metadata": {},
   "outputs": [
    {
     "name": "stdout",
     "output_type": "stream",
     "text": [
      "MODEL ACCURACY =  0.7872727272727272\n"
     ]
    },
    {
     "data": {
      "image/png": "[encoded data removed]",
      "text/plain": [
       "<Figure size 432x288 with 2 Axes>"
      ]
     },
     "metadata": {
      "needs_background": "light"
     },
     "output_type": "display_data"
    }
   ],
   "source": [
    "model3(X_train,X_test,y_train,y_test,\"SVM | WITHOUT PCA\")"
   ]
  },
  {
   "cell_type": "markdown",
   "id": "1c2772c8",
   "metadata": {},
   "source": [
    "**WITH DATA REDUCTION**"
   ]
  },
  {
   "cell_type": "code",
   "execution_count": 71,
   "id": "43c84739",
   "metadata": {},
   "outputs": [
    {
     "name": "stdout",
     "output_type": "stream",
     "text": [
      "MODEL ACCURACY =  0.7775757575757576\n"
     ]
    },
    {
     "data": {
      "image/png": "[encoded data removed]",
      "text/plain": [
       "<Figure size 432x288 with 2 Axes>"
      ]
     },
     "metadata": {
      "needs_background": "light"
     },
     "output_type": "display_data"
    }
   ],
   "source": [
    "model3(X_train_red, X_test_red, y_train_red, y_test_red,\"SVM | WITH PCA\")"
   ]
  },
  {
   "cell_type": "markdown",
   "id": "8b05d0ac",
   "metadata": {},
   "source": [
    "**CONCLUSION:** Excluding features/words decreases the performance of the model slightly but is more time efficient than the model that is trained without any exclusion."
   ]
  }
 ],
 "metadata": {
  "kernelspec": {
   "display_name": "Python 3",
   "language": "python",
   "name": "python3"
  },
  "language_info": {
   "codemirror_mode": {
    "name": "ipython",
    "version": 3
   },
   "file_extension": ".py",
   "mimetype": "text/x-python",
   "name": "python",
   "nbconvert_exporter": "python",
   "pygments_lexer": "ipython3",
   "version": "3.9.5"
  }
 },
 "nbformat": 4,
 "nbformat_minor": 5
}
