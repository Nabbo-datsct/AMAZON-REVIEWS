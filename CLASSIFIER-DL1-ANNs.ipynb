{
 "cells": [
  {
   "cell_type": "markdown",
   "id": "1e5aee2e",
   "metadata": {
    "id": "mEOZxBb1Txht"
   },
   "source": [
    "# THE TRAINING DATA "
   ]
  },
  {
   "cell_type": "code",
   "execution_count": 1,
   "id": "48fa5295",
   "metadata": {},
   "outputs": [],
   "source": [
    "import random"
   ]
  },
  {
   "cell_type": "code",
   "execution_count": 2,
   "id": "bfd5fa95",
   "metadata": {},
   "outputs": [],
   "source": [
    "file=open(\"train.ft.txt\",\"r\",encoding=\"utf8\")\n",
    "train_file_lines=[x for x in file]\n",
    "file.close()"
   ]
  },
  {
   "cell_type": "code",
   "execution_count": 3,
   "id": "6b9f4589",
   "metadata": {},
   "outputs": [
    {
     "data": {
      "text/plain": [
       "['__label__1 Put them on the street where they belong.: As a parent, I find these dolls too sugestive for younger children. I am by no means a conservative, but these babyz are over the line. I find dolls that dress like Fredericks of Hollywood not suitable for younger girls! If you are a parent, think before you buy these dolls.\\n',\n",
       " '__label__1 this is weak: i think this was weak exepted the song by mo thugs and layzie bone kuz they are da best im a wasteland warrior a mighty mo thug warrior gotz 2 give it up 2 layzie krayzie bizzy wi$h and my man fle$h cleveland ......... suka\\n',\n",
       " \"__label__2 A rough ride indeed: Kimmage rode with some of the greats of cycling, but was only in the cold shadow of greatness in terms of ability. He details in the book the means taken by some cyclists to climb out of the shadows into the sunshine by taking drugs. His book was brave at the time, he was accused of 'spitting in the soup' and lost the friendship of many of his cycling peers for his writing about the drug taking. He was called a liar. But time has revealed through the 'festina affair' who were the liars. A good read, but leaves one feeling a little sad to think that sport in general, not just cycling, can be so diseased.\\n\",\n",
       " '__label__2 Harryfan: Fabulous product!!Received order in a very short amount of time and in excellent condition .Would purchase from this company again!!\\n',\n",
       " \"__label__2 What a pleasant surprise!: I was in the mood for a fast thriller and i wasn't dissapointed, i read the book in 2 days, it kept me going until the end, and speaking of the end, the last chapters is very thought provoking, it give me chills. If you enjoyed this book, check out James Rollins, same type of andrenaline rush when you read his books.\\n\",\n",
       " '__label__2 Sowin Love by Paul Overstreet!: Paul Overstreet is one of the best country singers I know and this CD is awesome!\\n',\n",
       " \"__label__2 Decent software: I've used this s/w before and have never had problems with it.Admitedly my return isn't that complicated (Sch A, B, Ira's, etc) but still, not to bad.It could be easier to navigate and to enter info directly onto schedules, but other than that no complaint. I've e-filed perfectly the 1st time everytime I've used it.Let's just see about the rebates though, I pray it's not the scam it is w/ Turbo Tax.\\n\",\n",
       " \"__label__2 great funny musical: I love this soundtrack! it's great for kids and adults all the like. the songs are funny and have good catchy beats to them.\\n\",\n",
       " \"__label__1 What a Crock!: That's it. That's my review. What a Crock!! There should really be a zero rating for a waste of paper like this.\\n\",\n",
       " '__label__2 If you are careful you can change the battery, but expect work: This item works. I purchased 2 for 2 ipods. Both batteries were dead. They have a decent life. I however left an ipod unattended for about 3 months after I charged it. It started dying, but I have charged and used until it is discharged and the time the charge lasts has gotten longer. You have to use it a few times to really get the battery working at full capacity. The video is pretty good. The tools will not work more than once or twice, and you must be very careful when working with your ipods. If you want to make it live a little longer is a cheap investment. I am sure there are other batteries but this one seems good enough.\\n']"
      ]
     },
     "execution_count": 3,
     "metadata": {},
     "output_type": "execute_result"
    }
   ],
   "source": [
    "random.sample(train_file_lines,10)"
   ]
  },
  {
   "cell_type": "markdown",
   "id": "3d71a342",
   "metadata": {
    "id": "6BBmIIOsUTKj"
   },
   "source": [
    "# PRE-PROCESSING"
   ]
  },
  {
   "cell_type": "markdown",
   "id": "98855599",
   "metadata": {},
   "source": [
    "IMPORTING LIBRARIES AND DOWNLOADING TOOLKITS"
   ]
  },
  {
   "cell_type": "code",
   "execution_count": 4,
   "id": "fbd29392",
   "metadata": {},
   "outputs": [
    {
     "name": "stderr",
     "output_type": "stream",
     "text": [
      "[nltk_data] Downloading package wordnet to\n",
      "[nltk_data]     C:\\Users\\hp\\AppData\\Roaming\\nltk_data...\n",
      "[nltk_data]   Package wordnet is already up-to-date!\n",
      "[nltk_data] Downloading package stopwords to\n",
      "[nltk_data]     C:\\Users\\hp\\AppData\\Roaming\\nltk_data...\n",
      "[nltk_data]   Package stopwords is already up-to-date!\n",
      "[nltk_data] Downloading package words to\n",
      "[nltk_data]     C:\\Users\\hp\\AppData\\Roaming\\nltk_data...\n",
      "[nltk_data]   Package words is already up-to-date!\n"
     ]
    },
    {
     "name": "stdout",
     "output_type": "stream",
     "text": [
      "✔ Download and installation successful\n",
      "You can now load the package via spacy.load('en_core_web_sm')\n"
     ]
    }
   ],
   "source": [
    "import lxml\n",
    "import spacy\n",
    "import nltk\n",
    "import re\n",
    "from bs4 import BeautifulSoup          #To remove html tags while preprocessing reviews.\n",
    "\n",
    "nltk.download(\"wordnet\")\n",
    "nltk.download(\"stopwords\")\n",
    "nltk.download('words')\n",
    "\n",
    "from nltk.stem import WordNetLemmatizer\n",
    "lemmatizer = WordNetLemmatizer()\n",
    "from nltk.corpus import stopwords\n",
    "stop_words = set(stopwords.words('english'))\n",
    "english_words = set(nltk.corpus.words.words())\n",
    "\n",
    "from spacy.cli.download import download\n",
    "download(model=\"en_core_web_sm\")"
   ]
  },
  {
   "cell_type": "markdown",
   "id": "a4669c23",
   "metadata": {
    "id": "GUyLIBKOi3tE"
   },
   "source": [
    "FUNCTIONS FOR SCREENING STOPWORDS, NON-ENGLISH WORDS AND LEMMATIZING AND FILTERING WORDS WITH LENGTH LESS THAN 3."
   ]
  },
  {
   "cell_type": "code",
   "execution_count": 5,
   "id": "dbbd089a",
   "metadata": {
    "id": "djScXh-ECVIw"
   },
   "outputs": [],
   "source": [
    "def remove_underscores(sentence):                    #removing unnecessary character occurences\n",
    "    sentence= sentence.replace(\"_\",\" \")\n",
    "    sentence = sentence.replace(\"\\\\\",\"\")\n",
    "    return sentence\n",
    "\n",
    "\n",
    "def remove_extra_words(sentence):                     #removing stop words and meaningless words and occurences\n",
    "    new_sentence=\"\"\n",
    "    for w in sentence.split():\n",
    "        w=w.lower()\n",
    "        if w in english_words and w not in stop_words and w.isalpha():\n",
    "            new_sentence=new_sentence+\" \"+w\n",
    "    return new_sentence\n",
    "\n",
    "def lemmatize_and_filter(sentence, min_word_length): #lemmatizing words and lose the ones with length less than equal to min_word_length.\n",
    "    sent = \"\"\n",
    "    for word in sentence.split():\n",
    "        word=word.lower()\n",
    "        if len(lemmatizer.lemmatize(word)) > min_word_length:\n",
    "            sent= sent+\" \"+lemmatizer.lemmatize(word)\n",
    "    return(sent)"
   ]
  },
  {
   "cell_type": "markdown",
   "id": "ffad1979",
   "metadata": {
    "id": "lkLB70qS7rRF"
   },
   "source": [
    "FUNCTION FOR POSTAG SCREENING"
   ]
  },
  {
   "cell_type": "code",
   "execution_count": 6,
   "id": "7104ee19",
   "metadata": {
    "id": "RFpOOOTP7jp8"
   },
   "outputs": [],
   "source": [
    "\n",
    "# Initialize spacy 'en' model, keeping only tagger component (for efficiency)\n",
    "# Run in terminal: python3 -m spacy download en\n",
    "nlp = spacy.load('en_core_web_sm', disable=['parser', 'ner'])\n",
    "\n",
    "def postags_screening(texts):\n",
    "    allowed_postags=['ADJ', 'ADV']\n",
    "    texts_out = []\n",
    "    for sent in texts:\n",
    "        doc=nlp(sent)\n",
    "        sent=\"\"\n",
    "        for token in doc:\n",
    "            if token.lemma_ not in ['-PRON-'] and token.pos_ in allowed_postags:        #lemmatization: keeping only adjectives and adverbs\n",
    "                sent=sent+\" \"+str(token.lemma_)\n",
    "        texts_out.append(sent)\n",
    "    return texts_out\n"
   ]
  },
  {
   "cell_type": "markdown",
   "id": "a21193c7",
   "metadata": {
    "id": "5zBqQ3skaILv"
   },
   "source": [
    "Now we define two functions:\n",
    "1. split_label_review\n",
    "2. preprocessed_data\n",
    "\n",
    "1.split_label_review: This will help convert the unstructured data to a structured dataset by spliting the label/class from the reviews.\n",
    "2.preprocessed_data:  This will preprocess the reviews with all the functions defined above."
   ]
  },
  {
   "cell_type": "code",
   "execution_count": 7,
   "id": "f054764c",
   "metadata": {
    "id": "PCagzOeyaILv"
   },
   "outputs": [],
   "source": [
    "#re.sub(r'[^\\w\\s],\"\",string) to remove punctuations.\n",
    "#re.sub(r'^https?:\\/\\/.*[\\r\\n]*', '', string) to remove urls.\n",
    "#re.split(\"__label__[1|2]\",string)[1] to get the 2nd element of the split, i.e, the review\n",
    "#strip() to remove whitespaces\n",
    "#re.findall(\"1|2\", str(lines))[0] to store the first number encountered in the line of the review as the label of the review.\n",
    "#BeautifulSoup(string, \"lxml\").text) to remove html tags\n",
    "\n",
    "\n",
    "def split_label_review(data):\n",
    "    #takes in list of raw data and returns list of string sentences and the list of their corresponding labels.\n",
    "    labels = [int(re.findall(\"1|2\", str(lines))[0]) for lines in data]\n",
    "    reviews = [re.split(\"__label__[1|2]\",str(lines))[1].strip().lower() for lines in data]\n",
    "    return(reviews,labels)\n",
    "\n",
    "\n",
    "def preprocessed_data(data):        #takes in list of raw data and returns list of processed string sentences and the list of their corresponding labels.\n",
    "    reviews = [remove_extra_words(lemmatize_and_filter(BeautifulSoup(re.sub(r'[^\\w\\s]|^https?:\\/\\/.*[\\r\\n]*|\\d+', '', remove_underscores(str(lines)).strip().lower()), \"lxml\").text,3)) for lines in data]\n",
    "    reviews = postags_screening(reviews)\n",
    "    return(reviews)\n",
    "\n"
   ]
  },
  {
   "cell_type": "markdown",
   "id": "1acb7a9c",
   "metadata": {},
   "source": [
    "-------------------------------------------------------------------------------------------------------------------------------"
   ]
  },
  {
   "cell_type": "markdown",
   "id": "366bac4c",
   "metadata": {
    "id": "7Fj_swk7bvWC"
   },
   "source": [
    "## TENSORFLOW (PREPROCESSING) : TRANSFORMING THE DATA."
   ]
  },
  {
   "cell_type": "code",
   "execution_count": 8,
   "id": "e6013e0d",
   "metadata": {},
   "outputs": [],
   "source": [
    "train_file_lines=random.sample(train_file_lines,100000)"
   ]
  },
  {
   "cell_type": "code",
   "execution_count": 9,
   "id": "55989080",
   "metadata": {
    "id": "XBKU6uoghAj3"
   },
   "outputs": [],
   "source": [
    "training_sentences, training_labels =  split_label_review(train_file_lines)\n",
    "training_sentences=preprocessed_data(training_sentences)"
   ]
  },
  {
   "cell_type": "code",
   "execution_count": 10,
   "id": "5e15870c",
   "metadata": {},
   "outputs": [
    {
     "data": {
      "text/plain": [
       "36"
      ]
     },
     "execution_count": 10,
     "metadata": {},
     "output_type": "execute_result"
    }
   ],
   "source": [
    "l=[len(training_sentences[i].split()) for i in range(len(training_sentences))]\n",
    "\n",
    "max(l)"
   ]
  },
  {
   "cell_type": "code",
   "execution_count": 11,
   "id": "5c89bc63",
   "metadata": {
    "id": "_Ucke9v8Qpx8"
   },
   "outputs": [
    {
     "data": {
      "text/plain": [
       "'del train_file_lines'"
      ]
     },
     "execution_count": 11,
     "metadata": {},
     "output_type": "execute_result"
    }
   ],
   "source": [
    "\"\"\"del train_file_lines\"\"\""
   ]
  },
  {
   "cell_type": "markdown",
   "id": "6086f903",
   "metadata": {},
   "source": [
    "## Fitting tokenizer "
   ]
  },
  {
   "cell_type": "code",
   "execution_count": 12,
   "id": "feb32cff",
   "metadata": {
    "id": "_vqQNP2Zb2JU"
   },
   "outputs": [],
   "source": [
    "import tensorflow as tf\n",
    "from tensorflow.keras.preprocessing.text import Tokenizer\n",
    "from tensorflow.keras.preprocessing.sequence import pad_sequences"
   ]
  },
  {
   "cell_type": "code",
   "execution_count": 13,
   "id": "5875c8e4",
   "metadata": {
    "id": "lEpLd0kfcg6N"
   },
   "outputs": [],
   "source": [
    "tokenizer = Tokenizer(oov_token=\"<OOV>\")\n",
    "tokenizer.fit_on_texts(training_sentences)"
   ]
  },
  {
   "cell_type": "code",
   "execution_count": 14,
   "id": "94ca1e13",
   "metadata": {
    "id": "0PiI2emhedjU"
   },
   "outputs": [],
   "source": [
    "training_sequences = tokenizer.texts_to_sequences(training_sentences)"
   ]
  },
  {
   "cell_type": "code",
   "execution_count": 15,
   "id": "e685a472",
   "metadata": {},
   "outputs": [
    {
     "data": {
      "text/plain": [
       "36"
      ]
     },
     "execution_count": 15,
     "metadata": {},
     "output_type": "execute_result"
    }
   ],
   "source": [
    "maxlen = max([len(row) for row in training_sequences])\n",
    "maxlen"
   ]
  },
  {
   "cell_type": "code",
   "execution_count": 16,
   "id": "1e29c315",
   "metadata": {
    "id": "0PiI2emhedjU"
   },
   "outputs": [],
   "source": [
    "training_padded = pad_sequences(training_sequences,maxlen)"
   ]
  },
  {
   "cell_type": "code",
   "execution_count": 17,
   "id": "2ffd9f3d",
   "metadata": {
    "id": "3AYNZC4TsgGZ"
   },
   "outputs": [],
   "source": [
    "del training_sentences,training_sequences"
   ]
  },
  {
   "cell_type": "code",
   "execution_count": 18,
   "id": "12f7f32d",
   "metadata": {
    "id": "dDiOrJKriqCl"
   },
   "outputs": [],
   "source": [
    "# Need this block to get it to work with TensorFlow \n",
    "import numpy as np\n",
    "training_padded = np.array(training_padded)\n",
    "training_labels = np.array(training_labels)\n"
   ]
  },
  {
   "cell_type": "code",
   "execution_count": 19,
   "id": "4a021cc7",
   "metadata": {},
   "outputs": [
    {
     "data": {
      "text/plain": [
       "(100000, 36)"
      ]
     },
     "execution_count": 19,
     "metadata": {},
     "output_type": "execute_result"
    }
   ],
   "source": [
    "training_padded.shape"
   ]
  },
  {
   "cell_type": "code",
   "execution_count": 20,
   "id": "aa292602",
   "metadata": {},
   "outputs": [
    {
     "data": {
      "text/plain": [
       "(100000,)"
      ]
     },
     "execution_count": 20,
     "metadata": {},
     "output_type": "execute_result"
    }
   ],
   "source": [
    "training_labels.shape"
   ]
  },
  {
   "cell_type": "code",
   "execution_count": 21,
   "id": "cf62af81",
   "metadata": {},
   "outputs": [
    {
     "data": {
      "text/plain": [
       "array([[   0,    0,    0, ...,    0,  123,   17],\n",
       "       [   0,    0,    0, ..., 2072,  156,  780],\n",
       "       [   0,    0,    0, ...,    0,   43,    2],\n",
       "       ...,\n",
       "       [   0,    0,    0, ...,  180,  245,    3],\n",
       "       [   0,    0,    0, ...,   77,    8,   72],\n",
       "       [   0,    0,    0, ...,   52,    9,   89]])"
      ]
     },
     "execution_count": 21,
     "metadata": {},
     "output_type": "execute_result"
    }
   ],
   "source": [
    "training_padded"
   ]
  },
  {
   "cell_type": "markdown",
   "id": "566b59e1",
   "metadata": {
    "id": "ux9pmQgTWFAs"
   },
   "source": [
    "# **MODEL TRAINING**"
   ]
  },
  {
   "cell_type": "code",
   "execution_count": 22,
   "id": "8bb6caf8",
   "metadata": {
    "id": "R2p1A9mUi4nx"
   },
   "outputs": [
    {
     "data": {
      "text/plain": [
       "11788"
      ]
     },
     "execution_count": 22,
     "metadata": {},
     "output_type": "execute_result"
    }
   ],
   "source": [
    "vocab_size = max(list(tokenizer.word_index.values()))+1\n",
    "vocab_size"
   ]
  },
  {
   "cell_type": "markdown",
   "id": "5ac2d2e6",
   "metadata": {
    "id": "ntCarNA4WNm7"
   },
   "source": [
    "## **MODEL1**"
   ]
  },
  {
   "cell_type": "code",
   "execution_count": 23,
   "id": "347bbbbf",
   "metadata": {
    "id": "Gy0GPYrKi6hi"
   },
   "outputs": [
    {
     "name": "stdout",
     "output_type": "stream",
     "text": [
      "Model: \"sequential\"\n",
      "_________________________________________________________________\n",
      "Layer (type)                 Output Shape              Param #   \n",
      "=================================================================\n",
      "embedding (Embedding)        (None, None, 94)          9400000   \n",
      "_________________________________________________________________\n",
      "global_average_pooling1d (Gl (None, 94)                0         \n",
      "_________________________________________________________________\n",
      "dense (Dense)                (None, 117)               11115     \n",
      "_________________________________________________________________\n",
      "dense_1 (Dense)              (None, 11)                1298      \n",
      "_________________________________________________________________\n",
      "dense_2 (Dense)              (None, 1)                 12        \n",
      "=================================================================\n",
      "Total params: 9,412,425\n",
      "Trainable params: 9,412,425\n",
      "Non-trainable params: 0\n",
      "_________________________________________________________________\n"
     ]
    }
   ],
   "source": [
    "model = tf.keras.Sequential([\n",
    "    tf.keras.layers.Embedding(100000, 94), \n",
    "    tf.keras.layers.GlobalAveragePooling1D(),\n",
    "    tf.keras.layers.Dense(int(vocab_size/100), activation='relu'),\n",
    "    tf.keras.layers.Dense(int(vocab_size/1000), activation='relu'),\n",
    "    tf.keras.layers.Dense(1, activation='relu')])\n",
    "\n",
    "model.compile(loss='binary_crossentropy',optimizer='adam',metrics=['accuracy'])\n",
    "\n",
    "model.summary()"
   ]
  },
  {
   "cell_type": "code",
   "execution_count": 24,
   "id": "e8203994",
   "metadata": {
    "colab": {
     "base_uri": "https://localhost:8080/"
    },
    "executionInfo": {
     "elapsed": 3835724,
     "status": "ok",
     "timestamp": 1618438014593,
     "user": {
      "displayName": "Nabamita Chakraborty",
      "photoUrl": "https://lh3.googleusercontent.com/a-/AOh14GimpW_Sx4FxcDEUb59yL00PKGQHeTnusTiylnKL-Sw=s64",
      "userId": "02739261684760704673"
     },
     "user_tz": -330
    },
    "id": "FzPNj7nqjEBo",
    "outputId": "8ca3d833-7ba9-4987-ebca-da17d06b20df"
   },
   "outputs": [
    {
     "name": "stdout",
     "output_type": "stream",
     "text": [
      "Epoch 1/5\n",
      "2344/2344 [==============================] - 338s 144ms/step - loss: -7.4114 - accuracy: 0.4879 - val_loss: -7.6533 - val_accuracy: 0.4981\n",
      "Epoch 2/5\n",
      "2344/2344 [==============================] - 337s 144ms/step - loss: -7.6628 - accuracy: 0.4975 - val_loss: -7.6533 - val_accuracy: 0.4981\n",
      "Epoch 3/5\n",
      "2344/2344 [==============================] - 344s 147ms/step - loss: -7.6628 - accuracy: 0.4975 - val_loss: -7.6533 - val_accuracy: 0.4981\n",
      "Epoch 4/5\n",
      "2344/2344 [==============================] - 323s 138ms/step - loss: -7.6628 - accuracy: 0.4975 - val_loss: -7.6533 - val_accuracy: 0.4981\n",
      "Epoch 5/5\n",
      "2344/2344 [==============================] - 313s 134ms/step - loss: -7.6628 - accuracy: 0.4975 - val_loss: -7.6533 - val_accuracy: 0.4981\n"
     ]
    }
   ],
   "source": [
    "CB=[tf.keras.callbacks.ReduceLROnPlateau(monitor='val_loss', factor=.025, patience=2, cooldown=0)]\n",
    "history = model.fit(training_padded, training_labels, epochs=5, validation_split=0.25, verbose=1,callbacks=CB)"
   ]
  },
  {
   "cell_type": "markdown",
   "id": "ea6d5ee8",
   "metadata": {},
   "source": [
    "## EVALUATION"
   ]
  },
  {
   "cell_type": "code",
   "execution_count": 25,
   "id": "f16887a5",
   "metadata": {},
   "outputs": [],
   "source": [
    "import matplotlib.pyplot as plt\n",
    "%matplotlib inline"
   ]
  },
  {
   "cell_type": "code",
   "execution_count": 26,
   "id": "619b0435",
   "metadata": {},
   "outputs": [],
   "source": [
    "def plot_graphs(history, string):\n",
    "    \n",
    "    plt.plot(history.history[string])\n",
    "    plt.plot(history.history['val_'+string])\n",
    "    plt.xlabel(\"Epochs\")\n",
    "    plt.ylabel(string)\n",
    "    plt.legend([string, 'val_'+string])\n",
    "    plt.show()\n",
    "  "
   ]
  },
  {
   "cell_type": "code",
   "execution_count": 27,
   "id": "55747be1",
   "metadata": {},
   "outputs": [
    {
     "data": {
      "image/png": "[encoded data removed]",
      "text/plain": [
       "<Figure size 432x288 with 1 Axes>"
      ]
     },
     "metadata": {
      "needs_background": "light"
     },
     "output_type": "display_data"
    },
    {
     "data": {
      "image/png": "[encoded data removed]",
      "text/plain": [
       "<Figure size 432x288 with 1 Axes>"
      ]
     },
     "metadata": {
      "needs_background": "light"
     },
     "output_type": "display_data"
    }
   ],
   "source": [
    "plot_graphs(history, \"accuracy\")\n",
    "plot_graphs(history, \"loss\")\n"
   ]
  },
  {
   "cell_type": "markdown",
   "id": "939c442c",
   "metadata": {
    "id": "BM43VvWoWTNc"
   },
   "source": [
    "## **MODEL2**"
   ]
  },
  {
   "cell_type": "code",
   "execution_count": 28,
   "id": "3403167b",
   "metadata": {},
   "outputs": [
    {
     "data": {
      "text/plain": [
       "'model2 = tf.keras.Sequential([\\n  tf.keras.layers.Embedding(5000, 200),\\n  tf.keras.layers.Dropout(0.2),\\n  tf.keras.layers.Dense(500,activation=\"tanh\"),\\n  tf.keras.layers.Dropout(0.2),\\n  tf.keras.layers.Dense(1)])'"
      ]
     },
     "execution_count": 28,
     "metadata": {},
     "output_type": "execute_result"
    }
   ],
   "source": [
    "\"\"\"model2 = tf.keras.Sequential([\n",
    "  tf.keras.layers.Embedding(5000, 200),\n",
    "  tf.keras.layers.Dropout(0.2),\n",
    "  tf.keras.layers.Dense(500,activation=\"tanh\"),\n",
    "  tf.keras.layers.Dropout(0.2),\n",
    "  tf.keras.layers.Dense(1)])\"\"\""
   ]
  },
  {
   "cell_type": "code",
   "execution_count": 29,
   "id": "4c848e46",
   "metadata": {},
   "outputs": [
    {
     "name": "stdout",
     "output_type": "stream",
     "text": [
      "Model: \"sequential_1\"\n",
      "_________________________________________________________________\n",
      "Layer (type)                 Output Shape              Param #   \n",
      "=================================================================\n",
      "embedding_1 (Embedding)      (None, None, 200)         2357600   \n",
      "_________________________________________________________________\n",
      "dropout (Dropout)            (None, None, 200)         0         \n",
      "_________________________________________________________________\n",
      "global_average_pooling1d_1 ( (None, 200)               0         \n",
      "_________________________________________________________________\n",
      "dropout_1 (Dropout)          (None, 200)               0         \n",
      "_________________________________________________________________\n",
      "dense_3 (Dense)              (None, 1)                 201       \n",
      "=================================================================\n",
      "Total params: 2,357,801\n",
      "Trainable params: 2,357,801\n",
      "Non-trainable params: 0\n",
      "_________________________________________________________________\n"
     ]
    }
   ],
   "source": [
    "model2 = tf.keras.Sequential([\n",
    "  tf.keras.layers.Embedding(vocab_size, 200),\n",
    "  tf.keras.layers.Dropout(0.2),\n",
    "  tf.keras.layers.GlobalAveragePooling1D(),\n",
    "  tf.keras.layers.Dropout(0.2),\n",
    "  tf.keras.layers.Dense(1)])\n",
    "\n",
    "\n",
    "\n",
    "\n",
    "\n",
    "model2.compile(loss=tf.keras.losses.BinaryCrossentropy(from_logits=True),\n",
    "              optimizer='adam',\n",
    "              metrics=tf.metrics.BinaryAccuracy(threshold=0.0))\n",
    "\n",
    "model2.summary()"
   ]
  },
  {
   "cell_type": "code",
   "execution_count": 30,
   "id": "c43191cb",
   "metadata": {
    "colab": {
     "base_uri": "https://localhost:8080/",
     "height": 494
    },
    "executionInfo": {
     "elapsed": 2018,
     "status": "error",
     "timestamp": 1618433821969,
     "user": {
      "displayName": "Nabamita Chakraborty",
      "photoUrl": "https://lh3.googleusercontent.com/a-/AOh14GimpW_Sx4FxcDEUb59yL00PKGQHeTnusTiylnKL-Sw=s64",
      "userId": "02739261684760704673"
     },
     "user_tz": -330
    },
    "id": "hkb-jcQPKBbW",
    "outputId": "f049329b-6430-4fc0-d6ea-fbe134786c96"
   },
   "outputs": [
    {
     "name": "stdout",
     "output_type": "stream",
     "text": [
      "Epoch 1/5\n",
      "2344/2344 [==============================] - 83s 35ms/step - loss: -352.0436 - binary_accuracy: 0.4971 - val_loss: -1009.2294 - val_binary_accuracy: 0.4981\n",
      "Epoch 2/5\n",
      "2344/2344 [==============================] - 85s 36ms/step - loss: -2128.6458 - binary_accuracy: 0.4975 - val_loss: -3437.6543 - val_binary_accuracy: 0.4981\n",
      "Epoch 3/5\n",
      "2344/2344 [==============================] - 91s 39ms/step - loss: -5109.8066 - binary_accuracy: 0.4975 - val_loss: -6942.5391 - val_binary_accuracy: 0.4981\n",
      "Epoch 4/5\n",
      "2344/2344 [==============================] - 88s 37ms/step - loss: -9121.7822 - binary_accuracy: 0.4975 - val_loss: -11449.2930 - val_binary_accuracy: 0.4981\n",
      "Epoch 5/5\n",
      "2344/2344 [==============================] - 84s 36ms/step - loss: -14123.5527 - binary_accuracy: 0.4975 - val_loss: -16943.3105 - val_binary_accuracy: 0.4981\n"
     ]
    }
   ],
   "source": [
    "CB=[ tf.keras.callbacks.ReduceLROnPlateau(monitor='val_loss', factor=.025, patience=2, cooldown=0)]\n",
    "history2 = model2.fit(training_padded, training_labels, epochs=5, validation_split=0.25, verbose=1,callbacks=CB)"
   ]
  },
  {
   "cell_type": "code",
   "execution_count": 31,
   "id": "2c30d287",
   "metadata": {},
   "outputs": [
    {
     "data": {
      "text/plain": [
       "dict_keys(['loss', 'binary_accuracy', 'val_loss', 'val_binary_accuracy', 'lr'])"
      ]
     },
     "execution_count": 31,
     "metadata": {},
     "output_type": "execute_result"
    }
   ],
   "source": [
    "history2.history.keys()"
   ]
  },
  {
   "cell_type": "code",
   "execution_count": 32,
   "id": "34b253a8",
   "metadata": {},
   "outputs": [
    {
     "data": {
      "image/png": "[encoded data removed]",
      "text/plain": [
       "<Figure size 432x288 with 1 Axes>"
      ]
     },
     "metadata": {
      "needs_background": "light"
     },
     "output_type": "display_data"
    },
    {
     "data": {
      "image/png": "[encoded data removed]",
      "text/plain": [
       "<Figure size 432x288 with 1 Axes>"
      ]
     },
     "metadata": {
      "needs_background": "light"
     },
     "output_type": "display_data"
    }
   ],
   "source": [
    "plot_graphs(history2, \"binary_accuracy\")\n",
    "plot_graphs(history2, \"loss\")"
   ]
  },
  {
   "cell_type": "markdown",
   "id": "cd18b5c3",
   "metadata": {
    "id": "mrcbkWSKegQg"
   },
   "source": [
    "## **MODEL3**"
   ]
  },
  {
   "cell_type": "code",
   "execution_count": 33,
   "id": "3848c45d",
   "metadata": {
    "id": "66Ye2AvNeFOq"
   },
   "outputs": [
    {
     "name": "stdout",
     "output_type": "stream",
     "text": [
      "Model: \"sequential_2\"\n",
      "_________________________________________________________________\n",
      "Layer (type)                 Output Shape              Param #   \n",
      "=================================================================\n",
      "embedding_2 (Embedding)      (None, None, 50)          589400    \n",
      "_________________________________________________________________\n",
      "global_average_pooling1d_2 ( (None, 50)                0         \n",
      "_________________________________________________________________\n",
      "dense_4 (Dense)              (None, 400)               20400     \n",
      "_________________________________________________________________\n",
      "dense_5 (Dense)              (None, 100)               40100     \n",
      "_________________________________________________________________\n",
      "dense_6 (Dense)              (None, 1)                 101       \n",
      "=================================================================\n",
      "Total params: 650,001\n",
      "Trainable params: 650,001\n",
      "Non-trainable params: 0\n",
      "_________________________________________________________________\n",
      "Epoch 1/5\n",
      "2344/2344 [==============================] - 25s 10ms/step - loss: -40.4020 - accuracy: 0.4975 - val_loss: -76.5712 - val_accuracy: 0.4981\n",
      "Epoch 2/5\n",
      "2344/2344 [==============================] - 21s 9ms/step - loss: -112.6220 - accuracy: 0.4975 - val_loss: -148.4715 - val_accuracy: 0.4981\n",
      "Epoch 3/5\n",
      "2344/2344 [==============================] - 23s 10ms/step - loss: -184.6189 - accuracy: 0.4975 - val_loss: -220.3501 - val_accuracy: 0.4981\n",
      "Epoch 4/5\n",
      "2344/2344 [==============================] - 26s 11ms/step - loss: -256.5049 - accuracy: 0.4975 - val_loss: -292.1138 - val_accuracy: 0.4981\n",
      "Epoch 5/5\n",
      "2344/2344 [==============================] - 24s 10ms/step - loss: -328.4816 - accuracy: 0.4975 - val_loss: -364.0493 - val_accuracy: 0.4981\n"
     ]
    }
   ],
   "source": [
    "model3 = tf.keras.Sequential([\n",
    "    tf.keras.layers.Embedding(vocab_size, 50),\n",
    "    tf.keras.layers.GlobalAveragePooling1D(),\n",
    "    tf.keras.layers.Dense(400, activation='relu'),\n",
    "    tf.keras.layers.Dense(100, activation='sigmoid'),\n",
    "    tf.keras.layers.Dense(1, activation='sigmoid')])\n",
    "\n",
    "model3.compile(loss='binary_crossentropy',optimizer='adam',metrics=['accuracy'])\n",
    "\n",
    "model3.summary()\n",
    "\n",
    "CB=[ tf.keras.callbacks.ReduceLROnPlateau(monitor='val_loss', factor=.025, patience=2, cooldown=0)]\n",
    "history3 = model3.fit(training_padded, training_labels, epochs=5, validation_split=0.25, verbose=1,callbacks=CB)"
   ]
  },
  {
   "cell_type": "code",
   "execution_count": 34,
   "id": "064c98b5",
   "metadata": {},
   "outputs": [
    {
     "data": {
      "text/plain": [
       "dict_keys(['loss', 'accuracy', 'val_loss', 'val_accuracy', 'lr'])"
      ]
     },
     "execution_count": 34,
     "metadata": {},
     "output_type": "execute_result"
    }
   ],
   "source": [
    "history3.history.keys()"
   ]
  },
  {
   "cell_type": "code",
   "execution_count": 35,
   "id": "c3ca9e66",
   "metadata": {},
   "outputs": [
    {
     "data": {
      "image/png": "[encoded data removed]",
      "text/plain": [
       "<Figure size 432x288 with 1 Axes>"
      ]
     },
     "metadata": {
      "needs_background": "light"
     },
     "output_type": "display_data"
    },
    {
     "data": {
      "image/png": "[encoded data removed]",
      "text/plain": [
       "<Figure size 432x288 with 1 Axes>"
      ]
     },
     "metadata": {
      "needs_background": "light"
     },
     "output_type": "display_data"
    }
   ],
   "source": [
    "plot_graphs(history3, \"accuracy\")\n",
    "plot_graphs(history3, \"loss\")\n"
   ]
  },
  {
   "cell_type": "markdown",
   "id": "fe90c8e6",
   "metadata": {},
   "source": [
    "**CONCLUSION:** None of the model performs to any amount of satisfaction."
   ]
  }
 ],
 "metadata": {
  "kernelspec": {
   "display_name": "Python 3",
   "language": "python",
   "name": "python3"
  },
  "language_info": {
   "codemirror_mode": {
    "name": "ipython",
    "version": 3
   },
   "file_extension": ".py",
   "mimetype": "text/x-python",
   "name": "python",
   "nbconvert_exporter": "python",
   "pygments_lexer": "ipython3",
   "version": "3.9.5"
  }
 },
 "nbformat": 4,
 "nbformat_minor": 5
}
