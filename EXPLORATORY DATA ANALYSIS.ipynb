{
 "cells": [
  {
   "cell_type": "code",
   "execution_count": 1,
   "id": "ad6b6f0d",
   "metadata": {},
   "outputs": [],
   "source": [
    "import random\n",
    "import re\n",
    "import matplotlib.pyplot as plt"
   ]
  },
  {
   "cell_type": "markdown",
   "id": "fd9cee18",
   "metadata": {
    "id": "mEOZxBb1Txht"
   },
   "source": [
    "# EXTRACTING DATA"
   ]
  },
  {
   "cell_type": "code",
   "execution_count": 2,
   "id": "4bc38665",
   "metadata": {
    "id": "l01e-8X62evz"
   },
   "outputs": [],
   "source": [
    "file=open(\"train.ft.txt\",\"r\",encoding=\"utf8\")\n",
    "train_data=[x for x in file]\n",
    "file.close()"
   ]
  },
  {
   "cell_type": "code",
   "execution_count": 3,
   "id": "a8da6ab9",
   "metadata": {},
   "outputs": [
    {
     "data": {
      "text/plain": [
       "3600000"
      ]
     },
     "execution_count": 3,
     "metadata": {},
     "output_type": "execute_result"
    }
   ],
   "source": [
    "len(train_data)"
   ]
  },
  {
   "cell_type": "code",
   "execution_count": 4,
   "id": "ff9f68f5",
   "metadata": {},
   "outputs": [
    {
     "data": {
      "text/plain": [
       "['__label__2 Recomend: Wondered if a book written by grieving mothers would speak to men. I was sure wrong. Very honest talk of thier feelings and varied coping adjustments. I saw myself in many of their stories of how they feel and how they keep on keeping on. The last chapter where the husbands talk of thier feelings only helped solidify my liking this book.\\n',\n",
       " '__label__1 No love for non-ipods: I ordered this clock expecting it to use my Toshiba Gigabeat MP3 player as an alarm. While made specifically for the ipod, the product advertises that it has a MP3 line-in jack and can play other audio devices. However, buried deep in the instructions are the words \"you CANNOT wake to Line in audio devices.\" Then what good is the line-in jack? The product description is purposely ambiguous on this matter, perhaps to nab a few extra bucks from unsuspecting customers. I will never buy from \"iHome\" again.\\n',\n",
       " '__label__1 I ordered this and waited and waited: and then got a refund saying the company does not carry this item any longer... what a disappointment... take this listing off....\\n',\n",
       " '__label__1 Too hot: Rival had a great idea with this one (the programmable feature), but like many people have mentioned, it cooks way too hot for anyone who is gone for several hours. 8 hours on low = burned, nasty food.I hate mine. Do they even test these products before they market them?I have had several Rival pots. They all realistically have two settings: burned and off.\\n',\n",
       " \"__label__1 Fisher Price Bubble Mower is a Huge Disappointment: This is the worst toy that I have ever purchased from Fisher Price. It has a horrible design. Whoever came up with this one must have literally thrown it together. I really thought it would be a cool toy for my grandson. Boy was I wrong! I heard that this mower had been re-designed to correct some former flaws. If that's the case, then the first one must have been really awful! As far as I'm concerned, Fisher Price can keep this toy. I am returning the one that I purchased this week. Fisher Price should be ashamed of themselves for selling this item. I would not recommend it at all!\\n\"]"
      ]
     },
     "execution_count": 4,
     "metadata": {},
     "output_type": "execute_result"
    }
   ],
   "source": [
    "random.sample(train_data,5)"
   ]
  },
  {
   "cell_type": "markdown",
   "id": "354a379b",
   "metadata": {
    "id": "JfbB836Xj8ci"
   },
   "source": [
    "# POSITIVE NEGATIVE SPLIT\n",
    "\n",
    "To check balance in data distribution through it's classes."
   ]
  },
  {
   "cell_type": "code",
   "execution_count": 7,
   "id": "f8ffb3ce",
   "metadata": {
    "id": "JJyNsvmUaILx"
   },
   "outputs": [],
   "source": [
    "\n",
    "def split_into_negative_positive(data):       #takes in list of raw data and returns two list of string sentences, one list containing the positive reviews and the other list containing the negative reviews.\n",
    "    negative_reviews=[]      # list of all negative reviews\n",
    "    positive_reviews=[]      # list of all positive reviews\n",
    "\n",
    "    for lines in data:\n",
    "        lines= str(lines)\n",
    "        x=re.findall(\"1|2\", lines)[0]\n",
    "        if x==\"1\":\n",
    "            negative_reviews.append(lines)\n",
    "        elif x==\"2\":\n",
    "            positive_reviews.append(lines)\n",
    "    return(negative_reviews, positive_reviews)\n",
    "        "
   ]
  },
  {
   "cell_type": "code",
   "execution_count": 8,
   "id": "a2182706",
   "metadata": {
    "colab": {
     "base_uri": "https://localhost:8080/",
     "height": 295
    },
    "executionInfo": {
     "elapsed": 118807,
     "status": "ok",
     "timestamp": 1620493386689,
     "user": {
      "displayName": "Nabamita Chakraborty",
      "photoUrl": "https://lh3.googleusercontent.com/a-/AOh14GimpW_Sx4FxcDEUb59yL00PKGQHeTnusTiylnKL-Sw=s64",
      "userId": "02739261684760704673"
     },
     "user_tz": -330
    },
    "id": "sr0qrJ2RduZl",
    "outputId": "e755fe37-bd52-4abf-c863-ea2076b23af4"
   },
   "outputs": [
    {
     "data": {
      "image/png": "[encoded data removed]",
      "text/plain": [
       "<Figure size 432x288 with 1 Axes>"
      ]
     },
     "metadata": {
      "needs_background": "light"
     },
     "output_type": "display_data"
    }
   ],
   "source": [
    "#checking balance of data classification \n",
    "# creating the bar plot\n",
    "%matplotlib inline\n",
    "plt.bar([\"negative\",\"positive\"], [len(output) for output in split_into_negative_positive(train_data)], color ='MAROON',\n",
    "        width = 0.4)\n",
    " \n",
    "plt.xlabel(\"Classes of reviews\")\n",
    "plt.ylabel(\"No. of reviews\")\n",
    "plt.title(\"Class Distribution of Reviews\")\n",
    "plt.show()"
   ]
  },
  {
   "cell_type": "markdown",
   "id": "c09e8cee",
   "metadata": {
    "id": "EknJSpAk0jCc"
   },
   "source": [
    "Hence our data is equally distributed between both the classes."
   ]
  },
  {
   "cell_type": "markdown",
   "id": "2b1c24db",
   "metadata": {},
   "source": [
    "# CONCLUSION:\n",
    "The dataset is in unstructured format with the reviews and the label infused in same line."
   ]
  }
 ],
 "metadata": {
  "kernelspec": {
   "display_name": "Python 3",
   "language": "python",
   "name": "python3"
  },
  "language_info": {
   "codemirror_mode": {
    "name": "ipython",
    "version": 3
   },
   "file_extension": ".py",
   "mimetype": "text/x-python",
   "name": "python",
   "nbconvert_exporter": "python",
   "pygments_lexer": "ipython3",
   "version": "3.9.5"
  }
 },
 "nbformat": 4,
 "nbformat_minor": 5
}
