{
  "nbformat": 4,
  "nbformat_minor": 0,
  "metadata": {
    "colab": {
      "name": "CLASSIFIER-DL2-RNNs",
      "provenance": [],
      "collapsed_sections": [
        "dG652XguuEHq",
        "ZQkS3s0kR9if"
      ],
      "authorship_tag": "ABX9TyOuhZShdqgRUCNDSbt/+7Xj",
      "include_colab_link": true
    },
    "kernelspec": {
      "name": "python3",
      "display_name": "Python 3"
    },
    "language_info": {
      "name": "python"
    },
    "accelerator": "TPU"
  },
  "cells": [
    {
      "cell_type": "markdown",
      "metadata": {
        "id": "view-in-github",
        "colab_type": "text"
      },
      "source": [
        "<a href=\"https://colab.research.google.com/github/Nabbo-datsct/AMAZON-REVIEWS/blob/main/CLASSIFIER_DL2_RNNs.ipynb\" target=\"_parent\"><img src=\"https://colab.research.google.com/assets/colab-badge.svg\" alt=\"Open In Colab\"/></a>"
      ]
    },
    {
      "cell_type": "markdown",
      "metadata": {
        "id": "dG652XguuEHq"
      },
      "source": [
        "# IMPORTING LIBRARIES"
      ]
    },
    {
      "cell_type": "code",
      "metadata": {
        "id": "t-J57dILuAd_",
        "colab": {
          "base_uri": "https://localhost:8080/"
        },
        "outputId": "efafc307-e448-4c61-d4fb-2e33a094b3f0"
      },
      "source": [
        "from google.colab import drive\n",
        "\n",
        "import bz2        #for data extraction\n",
        "import random\n",
        "\n",
        "import nltk\n",
        "from nltk.stem import WordNetLemmatizer\n",
        "nltk.download(\"wordnet\")\n",
        "lemmatizer = WordNetLemmatizer()\n",
        "nltk.download(\"stopwords\") \n",
        "from nltk.corpus import stopwords\n",
        "nltk.download('words')\n",
        "\n",
        "import re\n",
        "from bs4 import BeautifulSoup          #To remove html tags while preprocessing reviews."
      ],
      "execution_count": 1,
      "outputs": [
        {
          "output_type": "stream",
          "text": [
            "[nltk_data] Downloading package wordnet to /root/nltk_data...\n",
            "[nltk_data]   Unzipping corpora/wordnet.zip.\n",
            "[nltk_data] Downloading package stopwords to /root/nltk_data...\n",
            "[nltk_data]   Unzipping corpora/stopwords.zip.\n",
            "[nltk_data] Downloading package words to /root/nltk_data...\n",
            "[nltk_data]   Unzipping corpora/words.zip.\n"
          ],
          "name": "stdout"
        }
      ]
    },
    {
      "cell_type": "markdown",
      "metadata": {
        "id": "nY7NNdYwToWF"
      },
      "source": [
        "# ESTABLISHING CONNECTION WITH GDRIVE"
      ]
    },
    {
      "cell_type": "code",
      "metadata": {
        "colab": {
          "base_uri": "https://localhost:8080/"
        },
        "id": "an4JKMR1BNEj",
        "outputId": "c3d5244f-055a-43fe-fb32-5edd86110b17"
      },
      "source": [
        "drive.mount(\"/content/gdrive\")"
      ],
      "execution_count": 2,
      "outputs": [
        {
          "output_type": "stream",
          "text": [
            "Mounted at /content/gdrive\n"
          ],
          "name": "stdout"
        }
      ]
    },
    {
      "cell_type": "markdown",
      "metadata": {
        "id": "mEOZxBb1Txht"
      },
      "source": [
        "# EXTRACTING DATA FROM GDRIVE"
      ]
    },
    {
      "cell_type": "code",
      "metadata": {
        "trusted": true,
        "id": "l01e-8X62evz"
      },
      "source": [
        "train_file = bz2.BZ2File('/content/gdrive/My Drive/amazon reviews tar/train.ft.txt.bz2')\n",
        "train_file_lines = train_file.readlines()\n",
        "train_file_lines=random.sample(train_file_lines, 100000)\n",
        "del train_file"
      ],
      "execution_count": 11,
      "outputs": []
    },
    {
      "cell_type": "markdown",
      "metadata": {
        "id": "6BBmIIOsUTKj"
      },
      "source": [
        "# PRE-PROCESSING"
      ]
    },
    {
      "cell_type": "markdown",
      "metadata": {
        "id": "GUyLIBKOi3tE"
      },
      "source": [
        " REMOVING STOPWORDS, NON-ENGLISH WORDS AND LEMMATIZING AND FILTERING WORDS WITH LENGTH LESS THAN 3."
      ]
    },
    {
      "cell_type": "code",
      "metadata": {
        "id": "djScXh-ECVIw"
      },
      "source": [
        "def remove_underscores(sentence):\n",
        "    sentence= sentence.replace(\"_\",\" \")\n",
        "    sentence = sentence.replace(\"\\\\\",\"\")\n",
        "    return sentence\n",
        "\n",
        "stop_words = set(stopwords.words('english'))\n",
        "english_words = set(nltk.corpus.words.words())\n",
        "\n",
        "def remove_extra_words(sentence):     #remove stop words and meaningless words\n",
        "    new_sentence=\"\"\n",
        "    for w in sentence.split():\n",
        "        w=w.lower()\n",
        "        if w in english_words and w not in stop_words and w.isalpha():\n",
        "            new_sentence=new_sentence+\" \"+w\n",
        "    return new_sentence\n",
        "\n",
        "def lemmatize_and_filter(sentence, min_word_length):        #to lemmatize words and lose the ones with length less than equal to 3.\n",
        "    sent = \"\"\n",
        "    for word in sentence.split():\n",
        "        word=word.lower()\n",
        "        if len(lemmatizer.lemmatize(word))>3:\n",
        "            sent= sent+\" \"+lemmatizer.lemmatize(word)\n",
        "    return(sent)"
      ],
      "execution_count": 4,
      "outputs": []
    },
    {
      "cell_type": "markdown",
      "metadata": {
        "id": "17o0xuw0B3pm"
      },
      "source": [
        "### Postag screening\n",
        "AN OPTIONAL PREPROCESSING"
      ]
    },
    {
      "cell_type": "code",
      "metadata": {
        "id": "uOf8vRPICC14"
      },
      "source": [
        "import spacy"
      ],
      "execution_count": 5,
      "outputs": []
    },
    {
      "cell_type": "code",
      "metadata": {
        "id": "uYdQn26OBv8U"
      },
      "source": [
        "# Initialize spacy 'en' model, keeping only tagger component (for efficiency)\n",
        "# Run in terminal: python3 -m spacy download en\n",
        "nlp = spacy.load('en_core_web_sm', disable=['parser', 'ner'])\n",
        "\n",
        "\n",
        "def postags_screening(texts, allowed_postags=['ADJ', 'VERB', 'ADV']):\n",
        "    texts_out = []\n",
        "    for sent in texts:\n",
        "        doc=nlp(sent)\n",
        "        sent=\"\"\n",
        "        for token in doc:\n",
        "            if token.lemma_ not in ['-PRON-'] and token.pos_ in allowed_postags:        \n",
        "                sent=sent+\" \"+str(token.lemma_)\n",
        "        texts_out.append(sent)\n",
        "    return texts_out\n"
      ],
      "execution_count": 6,
      "outputs": []
    },
    {
      "cell_type": "code",
      "metadata": {
        "id": "H73ben9wCVI-"
      },
      "source": [
        "#re.sub(r'[^\\w\\s],\"\",string) to remove punctuations.\n",
        "#re.sub(r'^https?:\\/\\/.*[\\r\\n]*', '', string) to remove urls.\n",
        "#re.split(\"__label__[1|2]\",string)[1] to get the 2nd element of the split, i.e, the review\n",
        "#strip() to remove whitespaces\n",
        "#re.findall(\"1|2\", str(lines))[0] to store the first number encountered in the line of the review as the label of the review.\n",
        "#BeautifulSoup(string, \"lxml\").text) to remove html tags\n",
        "\n",
        "\n",
        "def split_label_review(data):\n",
        "    #takes in list of raw data and returns list of string sentences and the list of their corresponding labels.\n",
        "    labels = [int(re.findall(\"1|2\", str(lines))[0]) for lines in data]\n",
        "    reviews = [re.split(\"__label__[1|2]\",str(lines))[1].strip().lower() for lines in data]\n",
        "    return(reviews,labels)\n",
        "\n",
        "\n",
        "def preprocessed_data(data):        #takes in list of raw data and returns list of processed string sentences and the list of their corresponding labels.\n",
        "    reviews = [remove_extra_words(lemmatize_and_filter(BeautifulSoup(re.sub(r'[^\\w\\s]|^https?:\\/\\/.*[\\r\\n]*|\\d+', '',\n",
        "                                                                            remove_underscores(str(lines)).strip().lower()), \"lxml\").text,3)) for lines in data]\n",
        "    reviews = postags_screening(reviews)\n",
        "    return(reviews)"
      ],
      "execution_count": 7,
      "outputs": []
    },
    {
      "cell_type": "markdown",
      "metadata": {
        "id": "7Fj_swk7bvWC"
      },
      "source": [
        "## TENSORFLOW (PREPROCESSING) : DATA TRANSFORMATION."
      ]
    },
    {
      "cell_type": "code",
      "metadata": {
        "id": "_vqQNP2Zb2JU"
      },
      "source": [
        "import tensorflow as tf\n",
        "from tensorflow.keras.preprocessing.text import Tokenizer\n",
        "from tensorflow.keras.preprocessing.sequence import pad_sequences"
      ],
      "execution_count": 12,
      "outputs": []
    },
    {
      "cell_type": "code",
      "metadata": {
        "id": "4kMEj3IZEmcS"
      },
      "source": [
        "tokenizer = Tokenizer(oov_token=\"<OOV>\")"
      ],
      "execution_count": 13,
      "outputs": []
    },
    {
      "cell_type": "code",
      "metadata": {
        "id": "hOVBqdfG2X8D"
      },
      "source": [
        "training_sentences, training_labels =  split_label_review(train_file_lines)\n",
        "training_sentences = preprocessed_data(training_sentences)\n",
        "del train_file_lines\n",
        "tokenizer.fit_on_texts(training_sentences)\n",
        "training_sequences = tokenizer.texts_to_sequences(training_sentences)\n",
        "del training_sentences\n",
        "training_padded = pad_sequences(training_sequences)\n",
        "del training_sequences"
      ],
      "execution_count": 14,
      "outputs": []
    },
    {
      "cell_type": "code",
      "metadata": {
        "id": "z_dV_b8A2X8E"
      },
      "source": [
        "# Need this block to get it to work with TensorFlow \n",
        "import numpy as np\n",
        "training_padded = np.array(training_padded)\n",
        "training_labels = np.array(training_labels)"
      ],
      "execution_count": 15,
      "outputs": []
    },
    {
      "cell_type": "code",
      "metadata": {
        "id": "R2p1A9mUi4nx",
        "colab": {
          "base_uri": "https://localhost:8080/"
        },
        "outputId": "c97c1b0f-a29c-4ee9-b68d-bd70f499d7cb"
      },
      "source": [
        "vocab_size = len(tokenizer.word_index)+1\n",
        "print(\"Total number of tokens is \",vocab_size)"
      ],
      "execution_count": 16,
      "outputs": [
        {
          "output_type": "stream",
          "text": [
            "Total number of tokens is  5158\n"
          ],
          "name": "stdout"
        }
      ]
    },
    {
      "cell_type": "markdown",
      "metadata": {
        "id": "ux9pmQgTWFAs"
      },
      "source": [
        "# **MODEL TRAINING**"
      ]
    },
    {
      "cell_type": "markdown",
      "metadata": {
        "id": "lSu1uKr0XEgy"
      },
      "source": [
        "## **MODEL4**\n",
        "\n",
        "**NOTE:** TAKE FULL TRAINING DATA WITHOUT SPLITTING INTO TRAIN-VALIDATION "
      ]
    },
    {
      "cell_type": "code",
      "metadata": {
        "id": "mPverfvlKSL7",
        "colab": {
          "base_uri": "https://localhost:8080/"
        },
        "outputId": "ffbc81a1-fd25-486d-cab9-5c225537ed32"
      },
      "source": [
        "model4 = tf.keras.Sequential()\n",
        "model4.add(tf.keras.layers.Embedding(vocab_size, 100))\n",
        "model4.add(tf.keras.layers.Dropout(0.5))\n",
        "model4.add(tf.keras.layers.LSTM(100, dropout=0.2, recurrent_dropout=0.2))\n",
        "model4.add(tf.keras.layers.Dense(1, activation='relu'))\n",
        "\n",
        "model4.compile(loss='binary_crossentropy',\n",
        "              optimizer=\"adam\",\n",
        "              metrics=['accuracy'])\n",
        "\n",
        "model4.summary()"
      ],
      "execution_count": 17,
      "outputs": [
        {
          "output_type": "stream",
          "text": [
            "Model: \"sequential\"\n",
            "_________________________________________________________________\n",
            "Layer (type)                 Output Shape              Param #   \n",
            "=================================================================\n",
            "embedding (Embedding)        (None, None, 100)         515800    \n",
            "_________________________________________________________________\n",
            "dropout (Dropout)            (None, None, 100)         0         \n",
            "_________________________________________________________________\n",
            "lstm (LSTM)                  (None, 100)               80400     \n",
            "_________________________________________________________________\n",
            "dense (Dense)                (None, 1)                 101       \n",
            "=================================================================\n",
            "Total params: 596,301\n",
            "Trainable params: 596,301\n",
            "Non-trainable params: 0\n",
            "_________________________________________________________________\n"
          ],
          "name": "stdout"
        }
      ]
    },
    {
      "cell_type": "code",
      "metadata": {
        "colab": {
          "base_uri": "https://localhost:8080/"
        },
        "id": "JspbS8cSJtIr",
        "outputId": "df78e18d-ba7b-4066-aeeb-ab7e17944b11"
      },
      "source": [
        "callbacks = [ tf.keras.callbacks.ReduceLROnPlateau(monitor='val_loss', factor=.25, patience=2, cooldown=0)]\n",
        "\n",
        "history4 = model4.fit(training_padded, training_labels, epochs=5,\n",
        "                    batch_size=500,\n",
        "                    validation_split=0.25,\n",
        "                    verbose=1,callbacks=callbacks)        #no. of training samples = 1,00,000*0.75=75,000; 75,000/500= 150 batches "
      ],
      "execution_count": 18,
      "outputs": [
        {
          "output_type": "stream",
          "text": [
            "Epoch 1/5\n",
            "8/8 [==============================] - 11s 912ms/step - loss: 4.6145 - accuracy: 0.0048 - val_loss: 0.2200 - val_accuracy: 0.3424\n",
            "Epoch 2/5\n",
            "8/8 [==============================] - 6s 761ms/step - loss: -5.9249 - accuracy: 0.4928 - val_loss: -7.8076 - val_accuracy: 0.4880\n",
            "Epoch 3/5\n",
            "8/8 [==============================] - 6s 769ms/step - loss: -7.3847 - accuracy: 0.5157 - val_loss: -7.8076 - val_accuracy: 0.4880\n",
            "Epoch 4/5\n",
            "8/8 [==============================] - 6s 765ms/step - loss: -7.3847 - accuracy: 0.5157 - val_loss: -7.8076 - val_accuracy: 0.4880\n",
            "Epoch 5/5\n",
            "8/8 [==============================] - 6s 769ms/step - loss: -7.3847 - accuracy: 0.5157 - val_loss: -7.8076 - val_accuracy: 0.4880\n"
          ],
          "name": "stdout"
        }
      ]
    },
    {
      "cell_type": "markdown",
      "metadata": {
        "id": "9jWcZ3Q_OX2_"
      },
      "source": [
        "## **MODEL5**"
      ]
    },
    {
      "cell_type": "code",
      "metadata": {
        "id": "gWlCLW7yOV5K",
        "colab": {
          "base_uri": "https://localhost:8080/"
        },
        "outputId": "8a79621a-bcd8-4c39-bc6c-df16d15b4531"
      },
      "source": [
        "embed_dim = 128\n",
        "lstm_out = 196\n",
        "\n",
        "model5 = tf.keras.Sequential()\n",
        "model5.add(tf.keras.layers.Embedding(vocab_size, embed_dim,input_length = training_padded.shape[1]))\n",
        "model5.add(tf.keras.layers.SpatialDropout1D(0.4))\n",
        "model5.add(tf.keras.layers.LSTM(lstm_out, dropout=0.2, recurrent_dropout=0.2))\n",
        "model5.add(tf.keras.layers.Dense(1,activation='relu'))\n",
        "model5.compile(loss = 'binary_crossentropy', optimizer='adam',metrics = ['accuracy'])\n",
        "\n",
        "print(model5.summary())\n",
        "\n",
        "CB=[ tf.keras.callbacks.ReduceLROnPlateau(monitor='val_loss', factor=.25, patience=2, cooldown=0)]\n",
        "history5 = model5.fit(training_padded, training_labels, epochs=5, validation_split=0.25, verbose=1,callbacks=CB)"
      ],
      "execution_count": 19,
      "outputs": [
        {
          "output_type": "stream",
          "text": [
            "Model: \"sequential_1\"\n",
            "_________________________________________________________________\n",
            "Layer (type)                 Output Shape              Param #   \n",
            "=================================================================\n",
            "embedding_1 (Embedding)      (None, 52, 128)           660224    \n",
            "_________________________________________________________________\n",
            "spatial_dropout1d (SpatialDr (None, 52, 128)           0         \n",
            "_________________________________________________________________\n",
            "lstm_1 (LSTM)                (None, 196)               254800    \n",
            "_________________________________________________________________\n",
            "dense_1 (Dense)              (None, 1)                 197       \n",
            "=================================================================\n",
            "Total params: 915,221\n",
            "Trainable params: 915,221\n",
            "Non-trainable params: 0\n",
            "_________________________________________________________________\n",
            "None\n",
            "Epoch 1/5\n",
            "118/118 [==============================] - 40s 313ms/step - loss: -6.7597 - accuracy: 0.4923 - val_loss: -7.8076 - val_accuracy: 0.4880\n",
            "Epoch 2/5\n",
            "118/118 [==============================] - 37s 311ms/step - loss: -7.3847 - accuracy: 0.5157 - val_loss: -7.8076 - val_accuracy: 0.4880\n",
            "Epoch 3/5\n",
            "118/118 [==============================] - 37s 313ms/step - loss: -7.3847 - accuracy: 0.5157 - val_loss: -7.8076 - val_accuracy: 0.4880\n",
            "Epoch 4/5\n",
            "118/118 [==============================] - 37s 312ms/step - loss: -7.3847 - accuracy: 0.5157 - val_loss: -7.8076 - val_accuracy: 0.4880\n",
            "Epoch 5/5\n",
            "118/118 [==============================] - 37s 312ms/step - loss: -7.3847 - accuracy: 0.5157 - val_loss: -7.8076 - val_accuracy: 0.4880\n"
          ],
          "name": "stdout"
        }
      ]
    },
    {
      "cell_type": "markdown",
      "metadata": {
        "id": "5IyU4MGsN4Ln"
      },
      "source": [
        "## EVALUATION"
      ]
    },
    {
      "cell_type": "code",
      "metadata": {
        "id": "PV5PR0PKNtci"
      },
      "source": [
        "import matplotlib.pyplot as plt\n",
        "%matplotlib inline\n",
        "\n",
        "def plot_graphs(history, string):\n",
        "    \n",
        "    plt.plot(history.history[string])\n",
        "    plt.plot(history.history['val_'+string])\n",
        "    plt.xlabel(\"Epochs\")\n",
        "    plt.ylabel(string)\n",
        "    plt.legend([string, 'val_'+string])\n",
        "    plt.show()\n",
        "  \n"
      ],
      "execution_count": 21,
      "outputs": []
    },
    {
      "cell_type": "code",
      "metadata": {
        "colab": {
          "base_uri": "https://localhost:8080/"
        },
        "id": "9K9hlw2WOPtx",
        "outputId": "27bd6e53-2499-41f8-dbfa-8273fec9b068"
      },
      "source": [
        "history4.history.keys()"
      ],
      "execution_count": 22,
      "outputs": [
        {
          "output_type": "execute_result",
          "data": {
            "text/plain": [
              "dict_keys(['loss', 'accuracy', 'val_loss', 'val_accuracy', 'lr'])"
            ]
          },
          "metadata": {
            "tags": []
          },
          "execution_count": 22
        }
      ]
    },
    {
      "cell_type": "code",
      "metadata": {
        "colab": {
          "base_uri": "https://localhost:8080/",
          "height": 541
        },
        "id": "ljmXzG6WOSij",
        "outputId": "310f587c-d403-4eda-c1b6-4076e91a0821"
      },
      "source": [
        "plot_graphs(history4, \"accuracy\")\n",
        "plot_graphs(history4, \"loss\")\n"
      ],
      "execution_count": 23,
      "outputs": [
        {
          "output_type": "display_data",
          "data": {
            "image/png": "[encoded data removed]",
            "text/plain": [
              "<Figure size 432x288 with 1 Axes>"
            ]
          },
          "metadata": {
            "tags": [],
            "needs_background": "light"
          }
        },
        {
          "output_type": "display_data",
          "data": {
            "image/png": "[encoded data removed]",
            "text/plain": [
              "<Figure size 432x288 with 1 Axes>"
            ]
          },
          "metadata": {
            "tags": [],
            "needs_background": "light"
          }
        }
      ]
    },
    {
      "cell_type": "code",
      "metadata": {
        "colab": {
          "base_uri": "https://localhost:8080/"
        },
        "id": "rZ40cluWOZnq",
        "outputId": "5f9c603d-fa47-4e7d-e24e-87326eef46a9"
      },
      "source": [
        "history5.history.keys()"
      ],
      "execution_count": 24,
      "outputs": [
        {
          "output_type": "execute_result",
          "data": {
            "text/plain": [
              "dict_keys(['loss', 'accuracy', 'val_loss', 'val_accuracy', 'lr'])"
            ]
          },
          "metadata": {
            "tags": []
          },
          "execution_count": 24
        }
      ]
    },
    {
      "cell_type": "code",
      "metadata": {
        "colab": {
          "base_uri": "https://localhost:8080/",
          "height": 541
        },
        "id": "Ny4UfCV4OZnr",
        "outputId": "4c8f714f-ca9f-4807-c147-3f768523accc"
      },
      "source": [
        "plot_graphs(history5, \"accuracy\")\n",
        "plot_graphs(history5, \"loss\")\n"
      ],
      "execution_count": 25,
      "outputs": [
        {
          "output_type": "display_data",
          "data": {
            "image/png": "[encoded data removed]",
            "text/plain": [
              "<Figure size 432x288 with 1 Axes>"
            ]
          },
          "metadata": {
            "tags": [],
            "needs_background": "light"
          }
        },
        {
          "output_type": "display_data",
          "data": {
            "image/png": "[encoded data removed]",
            "text/plain": [
              "<Figure size 432x288 with 1 Axes>"
            ]
          },
          "metadata": {
            "tags": [],
            "needs_background": "light"
          }
        }
      ]
    }
  ]
}